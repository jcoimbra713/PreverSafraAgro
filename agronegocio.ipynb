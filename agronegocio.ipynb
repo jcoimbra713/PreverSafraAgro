{
 "cells": [
  {
   "cell_type": "markdown",
   "metadata": {},
   "source": [
    "# PROJETO AGRONÉGOCIO"
   ]
  },
  {
   "cell_type": "markdown",
   "metadata": {},
   "source": [
    "#1° Problema de Negócio\n",
    "\n",
    "Precisamos **prever o resultado da temporada de colheita**, ou seja, se a cultura seria:\n",
    "\n",
    " **1. Saudável (viva)**\n",
    "\n",
    " **2. Danificada por pesticidas** ou \n",
    " \n",
    " **3. Danificada por outros motivos.**\n",
    "\n",
    "Os dados são baseados em safras colhidas por vários agricultores no final da temporada de colheita. \n"
   ]
  },
  {
   "cell_type": "markdown",
   "metadata": {},
   "source": [
    "# IMPORTAÇÃO DE BIBLIOTECAS E ARQUIVO"
   ]
  },
  {
   "cell_type": "code",
   "execution_count": 148,
   "metadata": {},
   "outputs": [],
   "source": [
    "#Importação de pacotes\n",
    "import warnings\n",
    "import pandas as pd\n",
    "df = pd.read_csv('treino.csv')\n",
    "import matplotlib.pyplot as plt\n",
    "import seaborn as sns\n",
    "from sklearn.model_selection import train_test_split\n",
    "import numpy as np\n",
    "import joblib # Utilizado para salvar o modelo preditivo\n",
    "from sklearn.preprocessing import LabelEncoder #Utilizada para fazer o OneHotEncoding\n",
    "from sklearn.metrics import mean_squared_error,precision_score, recall_score, f1_score, accuracy_score, roc_auc_score, confusion_matrix\n",
    "from imblearn import under_sampling, over_sampling #Utilizada para fazer o balanceamento de dados\n",
    "from imblearn.over_sampling import SMOTE #Utilizada para fazer o balanceamento de dados\n",
    "from sklearn.metrics import r2_score # Utilizado para medir a acuracia do modelo preditivo\n",
    "warnings.filterwarnings(\"ignore\") \n",
    "pd.set_option('display.max_columns', None)\n",
    "pd.set_option('display.max_rows', None)\n",
    "#pd.options.display.float_format = '{:.2f}'.format"
   ]
  },
  {
   "cell_type": "code",
   "execution_count": 149,
   "metadata": {},
   "outputs": [
    {
     "data": {
      "text/html": [
       "<div>\n",
       "<style scoped>\n",
       "    .dataframe tbody tr th:only-of-type {\n",
       "        vertical-align: middle;\n",
       "    }\n",
       "\n",
       "    .dataframe tbody tr th {\n",
       "        vertical-align: top;\n",
       "    }\n",
       "\n",
       "    .dataframe thead th {\n",
       "        text-align: right;\n",
       "    }\n",
       "</style>\n",
       "<table border=\"1\" class=\"dataframe\">\n",
       "  <thead>\n",
       "    <tr style=\"text-align: right;\">\n",
       "      <th></th>\n",
       "      <th>ID</th>\n",
       "      <th>Estimated_Insects_Count</th>\n",
       "      <th>Crop_Type</th>\n",
       "      <th>Soil_Type</th>\n",
       "      <th>Pesticide_Use_Category</th>\n",
       "      <th>Number_Doses_Week</th>\n",
       "      <th>Number_Weeks_Used</th>\n",
       "      <th>Number_Weeks_Quit</th>\n",
       "      <th>Season</th>\n",
       "      <th>Crop_Damage</th>\n",
       "    </tr>\n",
       "  </thead>\n",
       "  <tbody>\n",
       "    <tr>\n",
       "      <th>0</th>\n",
       "      <td>F00000001</td>\n",
       "      <td>188</td>\n",
       "      <td>1</td>\n",
       "      <td>0</td>\n",
       "      <td>1</td>\n",
       "      <td>0</td>\n",
       "      <td>0.0</td>\n",
       "      <td>0</td>\n",
       "      <td>1</td>\n",
       "      <td>0</td>\n",
       "    </tr>\n",
       "  </tbody>\n",
       "</table>\n",
       "</div>"
      ],
      "text/plain": [
       "          ID  Estimated_Insects_Count  Crop_Type  Soil_Type  \\\n",
       "0  F00000001                      188          1          0   \n",
       "\n",
       "   Pesticide_Use_Category  Number_Doses_Week  Number_Weeks_Used  \\\n",
       "0                       1                  0                0.0   \n",
       "\n",
       "   Number_Weeks_Quit  Season  Crop_Damage  \n",
       "0                  0       1            0  "
      ]
     },
     "execution_count": 149,
     "metadata": {},
     "output_type": "execute_result"
    }
   ],
   "source": [
    "df.head(1)"
   ]
  },
  {
   "cell_type": "code",
   "execution_count": 150,
   "metadata": {},
   "outputs": [
    {
     "data": {
      "text/plain": [
       "(88858, 10)"
      ]
     },
     "execution_count": 150,
     "metadata": {},
     "output_type": "execute_result"
    }
   ],
   "source": [
    "df.shape"
   ]
  },
  {
   "cell_type": "markdown",
   "metadata": {},
   "source": [
    "# TRADUÇÃO DA BASE DE DADOS"
   ]
  },
  {
   "cell_type": "code",
   "execution_count": 151,
   "metadata": {},
   "outputs": [
    {
     "data": {
      "text/html": [
       "<div>\n",
       "<style scoped>\n",
       "    .dataframe tbody tr th:only-of-type {\n",
       "        vertical-align: middle;\n",
       "    }\n",
       "\n",
       "    .dataframe tbody tr th {\n",
       "        vertical-align: top;\n",
       "    }\n",
       "\n",
       "    .dataframe thead th {\n",
       "        text-align: right;\n",
       "    }\n",
       "</style>\n",
       "<table border=\"1\" class=\"dataframe\">\n",
       "  <thead>\n",
       "    <tr style=\"text-align: right;\">\n",
       "      <th></th>\n",
       "      <th>ID</th>\n",
       "      <th>ContagemInsetos</th>\n",
       "      <th>CategoriaCultivo</th>\n",
       "      <th>TipoSolo</th>\n",
       "      <th>TipoPesticidas</th>\n",
       "      <th>Número_Doses_Semana</th>\n",
       "      <th>Número_Semanas_Usadas</th>\n",
       "      <th>NúmeroS_Semanas_Desistência</th>\n",
       "      <th>TemporadaColheita</th>\n",
       "      <th>Categoria_Dano_Cultivo</th>\n",
       "    </tr>\n",
       "  </thead>\n",
       "  <tbody>\n",
       "    <tr>\n",
       "      <th>0</th>\n",
       "      <td>F00000001</td>\n",
       "      <td>188</td>\n",
       "      <td>1</td>\n",
       "      <td>0</td>\n",
       "      <td>1</td>\n",
       "      <td>0</td>\n",
       "      <td>0.0</td>\n",
       "      <td>0</td>\n",
       "      <td>1</td>\n",
       "      <td>0</td>\n",
       "    </tr>\n",
       "    <tr>\n",
       "      <th>1</th>\n",
       "      <td>F00000003</td>\n",
       "      <td>209</td>\n",
       "      <td>1</td>\n",
       "      <td>0</td>\n",
       "      <td>1</td>\n",
       "      <td>0</td>\n",
       "      <td>0.0</td>\n",
       "      <td>0</td>\n",
       "      <td>2</td>\n",
       "      <td>1</td>\n",
       "    </tr>\n",
       "    <tr>\n",
       "      <th>2</th>\n",
       "      <td>F00000004</td>\n",
       "      <td>257</td>\n",
       "      <td>1</td>\n",
       "      <td>0</td>\n",
       "      <td>1</td>\n",
       "      <td>0</td>\n",
       "      <td>0.0</td>\n",
       "      <td>0</td>\n",
       "      <td>2</td>\n",
       "      <td>1</td>\n",
       "    </tr>\n",
       "    <tr>\n",
       "      <th>3</th>\n",
       "      <td>F00000005</td>\n",
       "      <td>257</td>\n",
       "      <td>1</td>\n",
       "      <td>1</td>\n",
       "      <td>1</td>\n",
       "      <td>0</td>\n",
       "      <td>0.0</td>\n",
       "      <td>0</td>\n",
       "      <td>2</td>\n",
       "      <td>1</td>\n",
       "    </tr>\n",
       "    <tr>\n",
       "      <th>4</th>\n",
       "      <td>F00000006</td>\n",
       "      <td>342</td>\n",
       "      <td>1</td>\n",
       "      <td>0</td>\n",
       "      <td>1</td>\n",
       "      <td>0</td>\n",
       "      <td>0.0</td>\n",
       "      <td>0</td>\n",
       "      <td>2</td>\n",
       "      <td>1</td>\n",
       "    </tr>\n",
       "  </tbody>\n",
       "</table>\n",
       "</div>"
      ],
      "text/plain": [
       "          ID  ContagemInsetos  CategoriaCultivo  TipoSolo  TipoPesticidas  \\\n",
       "0  F00000001              188                 1         0               1   \n",
       "1  F00000003              209                 1         0               1   \n",
       "2  F00000004              257                 1         0               1   \n",
       "3  F00000005              257                 1         1               1   \n",
       "4  F00000006              342                 1         0               1   \n",
       "\n",
       "   Número_Doses_Semana  Número_Semanas_Usadas  NúmeroS_Semanas_Desistência  \\\n",
       "0                    0                    0.0                            0   \n",
       "1                    0                    0.0                            0   \n",
       "2                    0                    0.0                            0   \n",
       "3                    0                    0.0                            0   \n",
       "4                    0                    0.0                            0   \n",
       "\n",
       "   TemporadaColheita  Categoria_Dano_Cultivo  \n",
       "0                  1                       0  \n",
       "1                  2                       1  \n",
       "2                  2                       1  \n",
       "3                  2                       1  \n",
       "4                  2                       1  "
      ]
     },
     "execution_count": 151,
     "metadata": {},
     "output_type": "execute_result"
    }
   ],
   "source": [
    "df_traduzida = df.rename(columns={'Estimated_Insects_Count':'ContagemInsetos','Crop_Type':'CategoriaCultivo','Soil_Type':'TipoSolo','Pesticide_Use_Category':'TipoPesticidas','Number_Doses_Week':'Número_Doses_Semana','Number_Weeks_Used':'Número_Semanas_Usadas','Number_Weeks_Quit':'NúmeroS_Semanas_Desistência','Season':'TemporadaColheita','Crop_Damage':'Categoria_Dano_Cultivo'})\n",
    "df_traduzida.head()"
   ]
  },
  {
   "cell_type": "markdown",
   "metadata": {},
   "source": [
    "# MANIPULAÇÃO E TRATEMENTO DE DADOS"
   ]
  },
  {
   "cell_type": "code",
   "execution_count": 152,
   "metadata": {},
   "outputs": [],
   "source": [
    "\n",
    "df_traduzida['CategoriaCultivo'] = df_traduzida['CategoriaCultivo'].replace(0, 'transgênica')\n",
    "df_traduzida['CategoriaCultivo'] = df_traduzida['CategoriaCultivo'].replace(1, 'convencional')\n",
    "\n",
    "df_traduzida['TipoSolo'] = df_traduzida['TipoSolo'].replace(0, 'arenoso')\n",
    "df_traduzida['TipoSolo'] = df_traduzida['TipoSolo'].replace(1, 'argiloso')\n"
   ]
  },
  {
   "cell_type": "code",
   "execution_count": 153,
   "metadata": {},
   "outputs": [
    {
     "data": {
      "text/html": [
       "<div>\n",
       "<style scoped>\n",
       "    .dataframe tbody tr th:only-of-type {\n",
       "        vertical-align: middle;\n",
       "    }\n",
       "\n",
       "    .dataframe tbody tr th {\n",
       "        vertical-align: top;\n",
       "    }\n",
       "\n",
       "    .dataframe thead th {\n",
       "        text-align: right;\n",
       "    }\n",
       "</style>\n",
       "<table border=\"1\" class=\"dataframe\">\n",
       "  <thead>\n",
       "    <tr style=\"text-align: right;\">\n",
       "      <th></th>\n",
       "      <th>ID</th>\n",
       "      <th>ContagemInsetos</th>\n",
       "      <th>CategoriaCultivo</th>\n",
       "      <th>TipoSolo</th>\n",
       "      <th>TipoPesticidas</th>\n",
       "      <th>Número_Doses_Semana</th>\n",
       "      <th>Número_Semanas_Usadas</th>\n",
       "      <th>NúmeroS_Semanas_Desistência</th>\n",
       "      <th>TemporadaColheita</th>\n",
       "      <th>Categoria_Dano_Cultivo</th>\n",
       "    </tr>\n",
       "  </thead>\n",
       "  <tbody>\n",
       "    <tr>\n",
       "      <th>0</th>\n",
       "      <td>F00000001</td>\n",
       "      <td>188</td>\n",
       "      <td>convencional</td>\n",
       "      <td>arenoso</td>\n",
       "      <td>1</td>\n",
       "      <td>0</td>\n",
       "      <td>0.0</td>\n",
       "      <td>0</td>\n",
       "      <td>1</td>\n",
       "      <td>0</td>\n",
       "    </tr>\n",
       "    <tr>\n",
       "      <th>1</th>\n",
       "      <td>F00000003</td>\n",
       "      <td>209</td>\n",
       "      <td>convencional</td>\n",
       "      <td>arenoso</td>\n",
       "      <td>1</td>\n",
       "      <td>0</td>\n",
       "      <td>0.0</td>\n",
       "      <td>0</td>\n",
       "      <td>2</td>\n",
       "      <td>1</td>\n",
       "    </tr>\n",
       "    <tr>\n",
       "      <th>2</th>\n",
       "      <td>F00000004</td>\n",
       "      <td>257</td>\n",
       "      <td>convencional</td>\n",
       "      <td>arenoso</td>\n",
       "      <td>1</td>\n",
       "      <td>0</td>\n",
       "      <td>0.0</td>\n",
       "      <td>0</td>\n",
       "      <td>2</td>\n",
       "      <td>1</td>\n",
       "    </tr>\n",
       "    <tr>\n",
       "      <th>3</th>\n",
       "      <td>F00000005</td>\n",
       "      <td>257</td>\n",
       "      <td>convencional</td>\n",
       "      <td>argiloso</td>\n",
       "      <td>1</td>\n",
       "      <td>0</td>\n",
       "      <td>0.0</td>\n",
       "      <td>0</td>\n",
       "      <td>2</td>\n",
       "      <td>1</td>\n",
       "    </tr>\n",
       "    <tr>\n",
       "      <th>4</th>\n",
       "      <td>F00000006</td>\n",
       "      <td>342</td>\n",
       "      <td>convencional</td>\n",
       "      <td>arenoso</td>\n",
       "      <td>1</td>\n",
       "      <td>0</td>\n",
       "      <td>0.0</td>\n",
       "      <td>0</td>\n",
       "      <td>2</td>\n",
       "      <td>1</td>\n",
       "    </tr>\n",
       "  </tbody>\n",
       "</table>\n",
       "</div>"
      ],
      "text/plain": [
       "          ID  ContagemInsetos CategoriaCultivo  TipoSolo  TipoPesticidas  \\\n",
       "0  F00000001              188     convencional   arenoso               1   \n",
       "1  F00000003              209     convencional   arenoso               1   \n",
       "2  F00000004              257     convencional   arenoso               1   \n",
       "3  F00000005              257     convencional  argiloso               1   \n",
       "4  F00000006              342     convencional   arenoso               1   \n",
       "\n",
       "   Número_Doses_Semana  Número_Semanas_Usadas  NúmeroS_Semanas_Desistência  \\\n",
       "0                    0                    0.0                            0   \n",
       "1                    0                    0.0                            0   \n",
       "2                    0                    0.0                            0   \n",
       "3                    0                    0.0                            0   \n",
       "4                    0                    0.0                            0   \n",
       "\n",
       "   TemporadaColheita  Categoria_Dano_Cultivo  \n",
       "0                  1                       0  \n",
       "1                  2                       1  \n",
       "2                  2                       1  \n",
       "3                  2                       1  \n",
       "4                  2                       1  "
      ]
     },
     "execution_count": 153,
     "metadata": {},
     "output_type": "execute_result"
    }
   ],
   "source": [
    "df_traduzida.head()"
   ]
  },
  {
   "cell_type": "markdown",
   "metadata": {},
   "source": [
    "### VERIFICANDO VALORES NULOS E DUPLICADOS "
   ]
  },
  {
   "cell_type": "code",
   "execution_count": 154,
   "metadata": {},
   "outputs": [
    {
     "name": "stdout",
     "output_type": "stream",
     "text": [
      "<class 'pandas.core.frame.DataFrame'>\n",
      "RangeIndex: 88858 entries, 0 to 88857\n",
      "Data columns (total 10 columns):\n",
      " #   Column                       Non-Null Count  Dtype  \n",
      "---  ------                       --------------  -----  \n",
      " 0   ID                           88858 non-null  object \n",
      " 1   ContagemInsetos              88858 non-null  int64  \n",
      " 2   CategoriaCultivo             88858 non-null  object \n",
      " 3   TipoSolo                     88858 non-null  object \n",
      " 4   TipoPesticidas               88858 non-null  int64  \n",
      " 5   Número_Doses_Semana          88858 non-null  int64  \n",
      " 6   Número_Semanas_Usadas        79858 non-null  float64\n",
      " 7   NúmeroS_Semanas_Desistência  88858 non-null  int64  \n",
      " 8   TemporadaColheita            88858 non-null  int64  \n",
      " 9   Categoria_Dano_Cultivo       88858 non-null  int64  \n",
      "dtypes: float64(1), int64(6), object(3)\n",
      "memory usage: 6.8+ MB\n"
     ]
    }
   ],
   "source": [
    "df_traduzida.info()"
   ]
  },
  {
   "cell_type": "code",
   "execution_count": 155,
   "metadata": {},
   "outputs": [
    {
     "data": {
      "text/plain": [
       "0"
      ]
     },
     "execution_count": 155,
     "metadata": {},
     "output_type": "execute_result"
    }
   ],
   "source": [
    "df_traduzida.duplicated().sum()"
   ]
  },
  {
   "cell_type": "code",
   "execution_count": 156,
   "metadata": {},
   "outputs": [
    {
     "data": {
      "text/plain": [
       "ID                              0.00000\n",
       "ContagemInsetos                 0.00000\n",
       "CategoriaCultivo                0.00000\n",
       "TipoSolo                        0.00000\n",
       "TipoPesticidas                  0.00000\n",
       "Número_Doses_Semana             0.00000\n",
       "Número_Semanas_Usadas          10.12852\n",
       "NúmeroS_Semanas_Desistência     0.00000\n",
       "TemporadaColheita               0.00000\n",
       "Categoria_Dano_Cultivo          0.00000\n",
       "dtype: float64"
      ]
     },
     "execution_count": 156,
     "metadata": {},
     "output_type": "execute_result"
    }
   ],
   "source": [
    "(df_traduzida.isnull().sum() / len(df_traduzida['TipoSolo']))*100"
   ]
  },
  {
   "cell_type": "code",
   "execution_count": 157,
   "metadata": {},
   "outputs": [
    {
     "data": {
      "text/html": [
       "<div>\n",
       "<style scoped>\n",
       "    .dataframe tbody tr th:only-of-type {\n",
       "        vertical-align: middle;\n",
       "    }\n",
       "\n",
       "    .dataframe tbody tr th {\n",
       "        vertical-align: top;\n",
       "    }\n",
       "\n",
       "    .dataframe thead th {\n",
       "        text-align: right;\n",
       "    }\n",
       "</style>\n",
       "<table border=\"1\" class=\"dataframe\">\n",
       "  <thead>\n",
       "    <tr style=\"text-align: right;\">\n",
       "      <th></th>\n",
       "      <th>ContagemInsetos</th>\n",
       "      <th>TipoPesticidas</th>\n",
       "      <th>Número_Doses_Semana</th>\n",
       "      <th>Número_Semanas_Usadas</th>\n",
       "      <th>NúmeroS_Semanas_Desistência</th>\n",
       "      <th>TemporadaColheita</th>\n",
       "      <th>Categoria_Dano_Cultivo</th>\n",
       "    </tr>\n",
       "  </thead>\n",
       "  <tbody>\n",
       "    <tr>\n",
       "      <th>count</th>\n",
       "      <td>88858.000000</td>\n",
       "      <td>88858.000000</td>\n",
       "      <td>88858.000000</td>\n",
       "      <td>79858.000000</td>\n",
       "      <td>88858.000000</td>\n",
       "      <td>88858.000000</td>\n",
       "      <td>88858.000000</td>\n",
       "    </tr>\n",
       "    <tr>\n",
       "      <th>mean</th>\n",
       "      <td>1399.012210</td>\n",
       "      <td>2.264186</td>\n",
       "      <td>25.849952</td>\n",
       "      <td>28.623970</td>\n",
       "      <td>9.589986</td>\n",
       "      <td>1.896959</td>\n",
       "      <td>0.190562</td>\n",
       "    </tr>\n",
       "    <tr>\n",
       "      <th>std</th>\n",
       "      <td>849.048781</td>\n",
       "      <td>0.461772</td>\n",
       "      <td>15.554428</td>\n",
       "      <td>12.391881</td>\n",
       "      <td>9.900631</td>\n",
       "      <td>0.701322</td>\n",
       "      <td>0.454215</td>\n",
       "    </tr>\n",
       "    <tr>\n",
       "      <th>min</th>\n",
       "      <td>150.000000</td>\n",
       "      <td>1.000000</td>\n",
       "      <td>0.000000</td>\n",
       "      <td>0.000000</td>\n",
       "      <td>0.000000</td>\n",
       "      <td>1.000000</td>\n",
       "      <td>0.000000</td>\n",
       "    </tr>\n",
       "    <tr>\n",
       "      <th>25%</th>\n",
       "      <td>731.000000</td>\n",
       "      <td>2.000000</td>\n",
       "      <td>15.000000</td>\n",
       "      <td>20.000000</td>\n",
       "      <td>0.000000</td>\n",
       "      <td>1.000000</td>\n",
       "      <td>0.000000</td>\n",
       "    </tr>\n",
       "    <tr>\n",
       "      <th>50%</th>\n",
       "      <td>1212.000000</td>\n",
       "      <td>2.000000</td>\n",
       "      <td>20.000000</td>\n",
       "      <td>28.000000</td>\n",
       "      <td>7.000000</td>\n",
       "      <td>2.000000</td>\n",
       "      <td>0.000000</td>\n",
       "    </tr>\n",
       "    <tr>\n",
       "      <th>75%</th>\n",
       "      <td>1898.000000</td>\n",
       "      <td>3.000000</td>\n",
       "      <td>40.000000</td>\n",
       "      <td>37.000000</td>\n",
       "      <td>16.000000</td>\n",
       "      <td>2.000000</td>\n",
       "      <td>0.000000</td>\n",
       "    </tr>\n",
       "    <tr>\n",
       "      <th>max</th>\n",
       "      <td>4097.000000</td>\n",
       "      <td>3.000000</td>\n",
       "      <td>95.000000</td>\n",
       "      <td>67.000000</td>\n",
       "      <td>50.000000</td>\n",
       "      <td>3.000000</td>\n",
       "      <td>2.000000</td>\n",
       "    </tr>\n",
       "  </tbody>\n",
       "</table>\n",
       "</div>"
      ],
      "text/plain": [
       "       ContagemInsetos  TipoPesticidas  Número_Doses_Semana  \\\n",
       "count     88858.000000    88858.000000         88858.000000   \n",
       "mean       1399.012210        2.264186            25.849952   \n",
       "std         849.048781        0.461772            15.554428   \n",
       "min         150.000000        1.000000             0.000000   \n",
       "25%         731.000000        2.000000            15.000000   \n",
       "50%        1212.000000        2.000000            20.000000   \n",
       "75%        1898.000000        3.000000            40.000000   \n",
       "max        4097.000000        3.000000            95.000000   \n",
       "\n",
       "       Número_Semanas_Usadas  NúmeroS_Semanas_Desistência  TemporadaColheita  \\\n",
       "count           79858.000000                 88858.000000       88858.000000   \n",
       "mean               28.623970                     9.589986           1.896959   \n",
       "std                12.391881                     9.900631           0.701322   \n",
       "min                 0.000000                     0.000000           1.000000   \n",
       "25%                20.000000                     0.000000           1.000000   \n",
       "50%                28.000000                     7.000000           2.000000   \n",
       "75%                37.000000                    16.000000           2.000000   \n",
       "max                67.000000                    50.000000           3.000000   \n",
       "\n",
       "       Categoria_Dano_Cultivo  \n",
       "count            88858.000000  \n",
       "mean                 0.190562  \n",
       "std                  0.454215  \n",
       "min                  0.000000  \n",
       "25%                  0.000000  \n",
       "50%                  0.000000  \n",
       "75%                  0.000000  \n",
       "max                  2.000000  "
      ]
     },
     "execution_count": 157,
     "metadata": {},
     "output_type": "execute_result"
    }
   ],
   "source": [
    "df_traduzida.describe()"
   ]
  },
  {
   "cell_type": "markdown",
   "metadata": {},
   "source": [
    "### PREENCHENDO VALORES NULOS COM A MÉDIA"
   ]
  },
  {
   "cell_type": "code",
   "execution_count": 158,
   "metadata": {},
   "outputs": [],
   "source": [
    "media = df_traduzida['Número_Semanas_Usadas'].mean()\n",
    "df_traduzida['Número_Semanas_Usadas'] = df_traduzida['Número_Semanas_Usadas'].fillna(media)"
   ]
  },
  {
   "cell_type": "markdown",
   "metadata": {},
   "source": [
    "### EXCLUINDO VARIAVEL IRRELEVANTE"
   ]
  },
  {
   "cell_type": "code",
   "execution_count": 159,
   "metadata": {},
   "outputs": [],
   "source": [
    "del df_traduzida['ID']"
   ]
  },
  {
   "cell_type": "markdown",
   "metadata": {},
   "source": [
    "# ANÁLISE EXPLORATÓRIA"
   ]
  },
  {
   "cell_type": "markdown",
   "metadata": {},
   "source": [
    "### ESTATÍSTICA"
   ]
  },
  {
   "cell_type": "code",
   "execution_count": 160,
   "metadata": {},
   "outputs": [
    {
     "data": {
      "text/html": [
       "<div>\n",
       "<style scoped>\n",
       "    .dataframe tbody tr th:only-of-type {\n",
       "        vertical-align: middle;\n",
       "    }\n",
       "\n",
       "    .dataframe tbody tr th {\n",
       "        vertical-align: top;\n",
       "    }\n",
       "\n",
       "    .dataframe thead th {\n",
       "        text-align: right;\n",
       "    }\n",
       "</style>\n",
       "<table border=\"1\" class=\"dataframe\">\n",
       "  <thead>\n",
       "    <tr style=\"text-align: right;\">\n",
       "      <th></th>\n",
       "      <th>ContagemInsetos</th>\n",
       "      <th>TipoPesticidas</th>\n",
       "      <th>Número_Doses_Semana</th>\n",
       "      <th>Número_Semanas_Usadas</th>\n",
       "      <th>NúmeroS_Semanas_Desistência</th>\n",
       "      <th>TemporadaColheita</th>\n",
       "      <th>Categoria_Dano_Cultivo</th>\n",
       "    </tr>\n",
       "  </thead>\n",
       "  <tbody>\n",
       "    <tr>\n",
       "      <th>count</th>\n",
       "      <td>88858.000000</td>\n",
       "      <td>88858.000000</td>\n",
       "      <td>88858.000000</td>\n",
       "      <td>88858.000000</td>\n",
       "      <td>88858.000000</td>\n",
       "      <td>88858.000000</td>\n",
       "      <td>88858.000000</td>\n",
       "    </tr>\n",
       "    <tr>\n",
       "      <th>mean</th>\n",
       "      <td>1399.012210</td>\n",
       "      <td>2.264186</td>\n",
       "      <td>25.849952</td>\n",
       "      <td>28.623970</td>\n",
       "      <td>9.589986</td>\n",
       "      <td>1.896959</td>\n",
       "      <td>0.190562</td>\n",
       "    </tr>\n",
       "    <tr>\n",
       "      <th>std</th>\n",
       "      <td>849.048781</td>\n",
       "      <td>0.461772</td>\n",
       "      <td>15.554428</td>\n",
       "      <td>11.747567</td>\n",
       "      <td>9.900631</td>\n",
       "      <td>0.701322</td>\n",
       "      <td>0.454215</td>\n",
       "    </tr>\n",
       "    <tr>\n",
       "      <th>min</th>\n",
       "      <td>150.000000</td>\n",
       "      <td>1.000000</td>\n",
       "      <td>0.000000</td>\n",
       "      <td>0.000000</td>\n",
       "      <td>0.000000</td>\n",
       "      <td>1.000000</td>\n",
       "      <td>0.000000</td>\n",
       "    </tr>\n",
       "    <tr>\n",
       "      <th>25%</th>\n",
       "      <td>731.000000</td>\n",
       "      <td>2.000000</td>\n",
       "      <td>15.000000</td>\n",
       "      <td>20.000000</td>\n",
       "      <td>0.000000</td>\n",
       "      <td>1.000000</td>\n",
       "      <td>0.000000</td>\n",
       "    </tr>\n",
       "    <tr>\n",
       "      <th>50%</th>\n",
       "      <td>1212.000000</td>\n",
       "      <td>2.000000</td>\n",
       "      <td>20.000000</td>\n",
       "      <td>28.623970</td>\n",
       "      <td>7.000000</td>\n",
       "      <td>2.000000</td>\n",
       "      <td>0.000000</td>\n",
       "    </tr>\n",
       "    <tr>\n",
       "      <th>75%</th>\n",
       "      <td>1898.000000</td>\n",
       "      <td>3.000000</td>\n",
       "      <td>40.000000</td>\n",
       "      <td>36.000000</td>\n",
       "      <td>16.000000</td>\n",
       "      <td>2.000000</td>\n",
       "      <td>0.000000</td>\n",
       "    </tr>\n",
       "    <tr>\n",
       "      <th>max</th>\n",
       "      <td>4097.000000</td>\n",
       "      <td>3.000000</td>\n",
       "      <td>95.000000</td>\n",
       "      <td>67.000000</td>\n",
       "      <td>50.000000</td>\n",
       "      <td>3.000000</td>\n",
       "      <td>2.000000</td>\n",
       "    </tr>\n",
       "  </tbody>\n",
       "</table>\n",
       "</div>"
      ],
      "text/plain": [
       "       ContagemInsetos  TipoPesticidas  Número_Doses_Semana  \\\n",
       "count     88858.000000    88858.000000         88858.000000   \n",
       "mean       1399.012210        2.264186            25.849952   \n",
       "std         849.048781        0.461772            15.554428   \n",
       "min         150.000000        1.000000             0.000000   \n",
       "25%         731.000000        2.000000            15.000000   \n",
       "50%        1212.000000        2.000000            20.000000   \n",
       "75%        1898.000000        3.000000            40.000000   \n",
       "max        4097.000000        3.000000            95.000000   \n",
       "\n",
       "       Número_Semanas_Usadas  NúmeroS_Semanas_Desistência  TemporadaColheita  \\\n",
       "count           88858.000000                 88858.000000       88858.000000   \n",
       "mean               28.623970                     9.589986           1.896959   \n",
       "std                11.747567                     9.900631           0.701322   \n",
       "min                 0.000000                     0.000000           1.000000   \n",
       "25%                20.000000                     0.000000           1.000000   \n",
       "50%                28.623970                     7.000000           2.000000   \n",
       "75%                36.000000                    16.000000           2.000000   \n",
       "max                67.000000                    50.000000           3.000000   \n",
       "\n",
       "       Categoria_Dano_Cultivo  \n",
       "count            88858.000000  \n",
       "mean                 0.190562  \n",
       "std                  0.454215  \n",
       "min                  0.000000  \n",
       "25%                  0.000000  \n",
       "50%                  0.000000  \n",
       "75%                  0.000000  \n",
       "max                  2.000000  "
      ]
     },
     "execution_count": 160,
     "metadata": {},
     "output_type": "execute_result"
    }
   ],
   "source": [
    "df_traduzida.describe()"
   ]
  },
  {
   "cell_type": "markdown",
   "metadata": {},
   "source": [
    "### MODA"
   ]
  },
  {
   "cell_type": "code",
   "execution_count": 161,
   "metadata": {},
   "outputs": [
    {
     "data": {
      "text/plain": [
       "1212"
      ]
     },
     "execution_count": 161,
     "metadata": {},
     "output_type": "execute_result"
    }
   ],
   "source": [
    "from statistics import mode\n",
    "\n",
    "mode(df_traduzida['ContagemInsetos'])"
   ]
  },
  {
   "cell_type": "code",
   "execution_count": 162,
   "metadata": {},
   "outputs": [
    {
     "data": {
      "text/plain": [
       "2"
      ]
     },
     "execution_count": 162,
     "metadata": {},
     "output_type": "execute_result"
    }
   ],
   "source": [
    "mode(df_traduzida['TipoPesticidas'])"
   ]
  },
  {
   "cell_type": "code",
   "execution_count": 163,
   "metadata": {},
   "outputs": [
    {
     "data": {
      "text/plain": [
       "20"
      ]
     },
     "execution_count": 163,
     "metadata": {},
     "output_type": "execute_result"
    }
   ],
   "source": [
    "mode(df_traduzida['Número_Doses_Semana'])"
   ]
  },
  {
   "cell_type": "code",
   "execution_count": 164,
   "metadata": {},
   "outputs": [
    {
     "data": {
      "text/plain": [
       "28.62397004683313"
      ]
     },
     "execution_count": 164,
     "metadata": {},
     "output_type": "execute_result"
    }
   ],
   "source": [
    "mode(df_traduzida['Número_Semanas_Usadas'])"
   ]
  },
  {
   "cell_type": "code",
   "execution_count": 165,
   "metadata": {},
   "outputs": [
    {
     "data": {
      "text/plain": [
       "0"
      ]
     },
     "execution_count": 165,
     "metadata": {},
     "output_type": "execute_result"
    }
   ],
   "source": [
    "mode(df_traduzida['NúmeroS_Semanas_Desistência']) "
   ]
  },
  {
   "cell_type": "code",
   "execution_count": 166,
   "metadata": {},
   "outputs": [
    {
     "data": {
      "text/plain": [
       "2"
      ]
     },
     "execution_count": 166,
     "metadata": {},
     "output_type": "execute_result"
    }
   ],
   "source": [
    "mode(df_traduzida['TemporadaColheita'])"
   ]
  },
  {
   "cell_type": "code",
   "execution_count": 167,
   "metadata": {},
   "outputs": [
    {
     "data": {
      "text/plain": [
       "0"
      ]
     },
     "execution_count": 167,
     "metadata": {},
     "output_type": "execute_result"
    }
   ],
   "source": [
    "mode(df_traduzida['Categoria_Dano_Cultivo'])"
   ]
  },
  {
   "cell_type": "markdown",
   "metadata": {},
   "source": [
    "### ASSIMETRIA"
   ]
  },
  {
   "cell_type": "code",
   "execution_count": 168,
   "metadata": {},
   "outputs": [
    {
     "data": {
      "text/plain": [
       "0.8391456380125325"
      ]
     },
     "execution_count": 168,
     "metadata": {},
     "output_type": "execute_result"
    }
   ],
   "source": [
    "df_traduzida['ContagemInsetos'].skew()"
   ]
  },
  {
   "cell_type": "code",
   "execution_count": 169,
   "metadata": {},
   "outputs": [
    {
     "data": {
      "text/plain": [
       "0.7794881288590019"
      ]
     },
     "execution_count": 169,
     "metadata": {},
     "output_type": "execute_result"
    }
   ],
   "source": [
    "df_traduzida['TipoPesticidas'].skew()"
   ]
  },
  {
   "cell_type": "code",
   "execution_count": 170,
   "metadata": {},
   "outputs": [
    {
     "data": {
      "text/plain": [
       "0.9628785733423003"
      ]
     },
     "execution_count": 170,
     "metadata": {},
     "output_type": "execute_result"
    }
   ],
   "source": [
    "df_traduzida['Número_Doses_Semana'].skew()"
   ]
  },
  {
   "cell_type": "code",
   "execution_count": 171,
   "metadata": {},
   "outputs": [
    {
     "data": {
      "text/plain": [
       "0.2580067032852669"
      ]
     },
     "execution_count": 171,
     "metadata": {},
     "output_type": "execute_result"
    }
   ],
   "source": [
    "df_traduzida['Número_Semanas_Usadas'].skew()"
   ]
  },
  {
   "cell_type": "code",
   "execution_count": 172,
   "metadata": {},
   "outputs": [
    {
     "data": {
      "text/plain": [
       "0.14522775084692485"
      ]
     },
     "execution_count": 172,
     "metadata": {},
     "output_type": "execute_result"
    }
   ],
   "source": [
    "df_traduzida['TemporadaColheita'].skew()"
   ]
  },
  {
   "cell_type": "code",
   "execution_count": 173,
   "metadata": {},
   "outputs": [
    {
     "data": {
      "text/plain": [
       "2.3678161799053252"
      ]
     },
     "execution_count": 173,
     "metadata": {},
     "output_type": "execute_result"
    }
   ],
   "source": [
    "df_traduzida['Categoria_Dano_Cultivo'].skew()"
   ]
  },
  {
   "cell_type": "markdown",
   "metadata": {},
   "source": [
    "### HISTOGRAMA"
   ]
  },
  {
   "cell_type": "code",
   "execution_count": 174,
   "metadata": {},
   "outputs": [
    {
     "data": {
      "text/plain": [
       "array([[<Axes: title={'center': 'ContagemInsetos'}>,\n",
       "        <Axes: title={'center': 'TipoPesticidas'}>,\n",
       "        <Axes: title={'center': 'Número_Doses_Semana'}>],\n",
       "       [<Axes: title={'center': 'Número_Semanas_Usadas'}>,\n",
       "        <Axes: title={'center': 'NúmeroS_Semanas_Desistência'}>,\n",
       "        <Axes: title={'center': 'TemporadaColheita'}>],\n",
       "       [<Axes: title={'center': 'Categoria_Dano_Cultivo'}>, <Axes: >,\n",
       "        <Axes: >]], dtype=object)"
      ]
     },
     "execution_count": 174,
     "metadata": {},
     "output_type": "execute_result"
    },
    {
     "data": {
      "image/png": "[encoded data removed]",
      "text/plain": [
       "<Figure size 1400x800 with 9 Axes>"
      ]
     },
     "metadata": {},
     "output_type": "display_data"
    }
   ],
   "source": [
    "df_traduzida.hist()"
   ]
  },
  {
   "cell_type": "markdown",
   "metadata": {},
   "source": [
    "### VERIFICANDO SE HÁ CORRELAÇÃO NAS VARIAVEIS"
   ]
  },
  {
   "cell_type": "code",
   "execution_count": 175,
   "metadata": {},
   "outputs": [
    {
     "data": {
      "image/png": "[encoded data removed]",
      "text/plain": [
       "<Figure size 800x800 with 2 Axes>"
      ]
     },
     "metadata": {},
     "output_type": "display_data"
    }
   ],
   "source": [
    "# Suponha que você deseja selecionar apenas colunas numéricas\n",
    "df_numeric = df_traduzida.select_dtypes(include=['float64', 'int64'])\n",
    "\n",
    "# Configurações de plot que você já especificou\n",
    "plt.rcParams['xtick.labelsize'] = 10\n",
    "plt.rcParams['ytick.labelsize'] = 10\n",
    "plt.rcParams['font.size'] = 10\n",
    "plt.rcParams['axes.titlesize'] = 20\n",
    "plt.rcParams[\"figure.figsize\"] = [8.00, 8.00]\n",
    "plt.rcParams[\"figure.autolayout\"] = True\n",
    "\n",
    "# Crie o heatmap apenas para as colunas numéricas\n",
    "sns.heatmap(df_numeric.corr(), annot=True)\n",
    "plt.show()"
   ]
  },
  {
   "cell_type": "markdown",
   "metadata": {},
   "source": [
    "### VALORES ÚNICO EM CADA VARIAVEL"
   ]
  },
  {
   "cell_type": "code",
   "execution_count": 176,
   "metadata": {},
   "outputs": [
    {
     "name": "stdout",
     "output_type": "stream",
     "text": [
      "ContagemInsetos : 71\n",
      "CategoriaCultivo : 2\n",
      "TipoSolo : 2\n",
      "TipoPesticidas : 3\n",
      "Número_Doses_Semana : 20\n",
      "Número_Semanas_Usadas : 65\n",
      "NúmeroS_Semanas_Desistência : 51\n",
      "TemporadaColheita : 3\n",
      "Categoria_Dano_Cultivo : 3\n"
     ]
    }
   ],
   "source": [
    "valores_unicos = []\n",
    "for i in df_traduzida.columns[0:12].tolist():\n",
    "    print(i, ':', len(df_traduzida[i].astype(str).value_counts()))\n",
    "    valores_unicos.append(len(df_traduzida[i].astype(str).value_counts()))"
   ]
  },
  {
   "cell_type": "markdown",
   "metadata": {},
   "source": [
    "## verificação de outliers "
   ]
  },
  {
   "cell_type": "code",
   "execution_count": 177,
   "metadata": {},
   "outputs": [
    {
     "name": "stdout",
     "output_type": "stream",
     "text": [
      "ContagemInsetos : int64\n",
      "TipoPesticidas : int64\n",
      "Número_Doses_Semana : int64\n",
      "Número_Semanas_Usadas : float64\n",
      "NúmeroS_Semanas_Desistência : int64\n",
      "TemporadaColheita : int64\n",
      "Categoria_Dano_Cultivo : int64\n"
     ]
    },
    {
     "data": {
      "image/png": "[encoded data removed]",
      "text/plain": [
       "<Figure size 1400x1000 with 9 Axes>"
      ]
     },
     "metadata": {},
     "output_type": "display_data"
    }
   ],
   "source": [
    "variaveis_numericas = []\n",
    "for i in df_traduzida.columns[0:16].tolist():\n",
    "        if df_traduzida.dtypes[i] == 'int64' or df_traduzida.dtypes[i] == 'float64':            \n",
    "            print(i, ':' , df_traduzida.dtypes[i]) \n",
    "            variaveis_numericas.append(i)\n",
    " \n",
    "    \n",
    "    \n",
    "    \n",
    "plt.rcParams[\"figure.figsize\"] = [14.00, 10.00]\n",
    "plt.rcParams[\"figure.autolayout\"] = True\n",
    "\n",
    "plt.rcParams['font.size'] = 10 \n",
    "plt.rcParams['axes.titlesize'] = 20\n",
    "\n",
    "f, axes = plt.subplots(3, 3) #8 linhas e 4 colunas\n",
    "\n",
    "linha = 0\n",
    "coluna = 0\n",
    "for i in variaveis_numericas:\n",
    "    sns.boxplot(data = df_traduzida, y=i, ax=axes[linha][coluna])\n",
    "    coluna += 1\n",
    "    if coluna == 3:\n",
    "        linha += 1\n",
    "        coluna = 0            \n",
    "\n",
    "plt.show() "
   ]
  },
  {
   "cell_type": "markdown",
   "metadata": {},
   "source": [
    "### ANÁLISE EXPLORATÓRIA DOS DADOS COM PYGWALKER"
   ]
  },
  {
   "cell_type": "code",
   "execution_count": 178,
   "metadata": {},
   "outputs": [
    {
     "name": "stderr",
     "output_type": "stream",
     "text": [
      "WARNING: parse invoke code failed, This may affect feature of export code.\n"
     ]
    },
    {
     "data": {
      "application/vnd.jupyter.widget-view+json": {
       "model_id": "f5e09502b4714de4ae6297681529ff6f",
       "version_major": 2,
       "version_minor": 0
      },
      "text/plain": [
       "Box(children=(HTML(value='<div id=\"ifr-pyg-1\" style=\"height: auto\">\\n    <head>\\n        <meta http-equiv=\"Con…"
      ]
     },
     "metadata": {},
     "output_type": "display_data"
    },
    {
     "data": {
      "text/html": [
       "<html>\n",
       "<style>\n",
       ".tabs{\n",
       "    position:relative;\n",
       "    height:660px;\n",
       "}\n",
       ".tab-pane{\n",
       "    display:inline-block;\n",
       "}\n",
       ".tabs input[type='radio']{\n",
       "    position:absolute;\n",
       "    clip:rect(0,0,0,0)\n",
       "}\n",
       ".tab-item{\n",
       "    display:block;\n",
       "    height:34px;\n",
       "    line-height:34px;\n",
       "    cursor:pointer;\n",
       "    padding:0 10px\n",
       "}\n",
       "\n",
       ".tabs input[type='radio']:checked+.tab-item{\n",
       "    background:#2563eb;\n",
       "    color:#fff\n",
       "}\n",
       "\n",
       ".tab-content{\n",
       "    display: none;\n",
       "    position:absolute;\n",
       "    left:0;\n",
       "    top:56px;\n",
       "    bottom:0;\n",
       "    right:0;\n",
       "}\n",
       "\n",
       ".tabs input[type='radio']:checked+.tab-item+.tab-content{\n",
       "    display: block;\n",
       "}\n",
       "</style>\n",
       "\n",
       "<body>\n",
       "    <div id=\"pygwalker-preview-1\">\n",
       "        <div class=\"tabs\">\n",
       "            \n",
       "        </div>\n",
       "    </div>\n",
       "</body>\n",
       "</html>"
      ],
      "text/plain": [
       "<IPython.core.display.HTML object>"
      ]
     },
     "metadata": {},
     "output_type": "display_data"
    },
    {
     "data": {
      "text/plain": [
       "<pygwalker.api.pygwalker.PygWalker at 0x2250f1ab8d0>"
      ]
     },
     "execution_count": 178,
     "metadata": {},
     "output_type": "execute_result"
    }
   ],
   "source": [
    "#!pip install pygwalker -q\n",
    "import pygwalker as pyg\n",
    "pyg.walk(df_traduzida)"
   ]
  },
  {
   "cell_type": "markdown",
   "metadata": {},
   "source": [
    "# ANÁLISE DE DADOS"
   ]
  },
  {
   "cell_type": "markdown",
   "metadata": {},
   "source": [
    "### ALTERANDO O NOME DA VARIAVEL  PREDITORA PARA A ANÁLISE PROFUNDA"
   ]
  },
  {
   "cell_type": "code",
   "execution_count": 179,
   "metadata": {},
   "outputs": [],
   "source": [
    "df_traduzida['Categoria_Dano_Cultivo'] = df_traduzida['Categoria_Dano_Cultivo'].replace(0, 'Saudável')\n",
    "df_traduzida['Categoria_Dano_Cultivo'] = df_traduzida['Categoria_Dano_Cultivo'].replace(1, 'DanificadaPesticidas')\n",
    "df_traduzida['Categoria_Dano_Cultivo'] = df_traduzida['Categoria_Dano_Cultivo'].replace(2, 'Danificada_Outros_Motivos')"
   ]
  },
  {
   "cell_type": "code",
   "execution_count": 180,
   "metadata": {},
   "outputs": [
    {
     "data": {
      "text/html": [
       "<div>\n",
       "<style scoped>\n",
       "    .dataframe tbody tr th:only-of-type {\n",
       "        vertical-align: middle;\n",
       "    }\n",
       "\n",
       "    .dataframe tbody tr th {\n",
       "        vertical-align: top;\n",
       "    }\n",
       "\n",
       "    .dataframe thead th {\n",
       "        text-align: right;\n",
       "    }\n",
       "</style>\n",
       "<table border=\"1\" class=\"dataframe\">\n",
       "  <thead>\n",
       "    <tr style=\"text-align: right;\">\n",
       "      <th></th>\n",
       "      <th>ContagemInsetos</th>\n",
       "      <th>CategoriaCultivo</th>\n",
       "      <th>TipoSolo</th>\n",
       "      <th>TipoPesticidas</th>\n",
       "      <th>Número_Doses_Semana</th>\n",
       "      <th>Número_Semanas_Usadas</th>\n",
       "      <th>NúmeroS_Semanas_Desistência</th>\n",
       "      <th>TemporadaColheita</th>\n",
       "      <th>Categoria_Dano_Cultivo</th>\n",
       "    </tr>\n",
       "  </thead>\n",
       "  <tbody>\n",
       "    <tr>\n",
       "      <th>0</th>\n",
       "      <td>188</td>\n",
       "      <td>convencional</td>\n",
       "      <td>arenoso</td>\n",
       "      <td>1</td>\n",
       "      <td>0</td>\n",
       "      <td>0.0</td>\n",
       "      <td>0</td>\n",
       "      <td>1</td>\n",
       "      <td>Saudável</td>\n",
       "    </tr>\n",
       "    <tr>\n",
       "      <th>1</th>\n",
       "      <td>209</td>\n",
       "      <td>convencional</td>\n",
       "      <td>arenoso</td>\n",
       "      <td>1</td>\n",
       "      <td>0</td>\n",
       "      <td>0.0</td>\n",
       "      <td>0</td>\n",
       "      <td>2</td>\n",
       "      <td>DanificadaPesticidas</td>\n",
       "    </tr>\n",
       "    <tr>\n",
       "      <th>2</th>\n",
       "      <td>257</td>\n",
       "      <td>convencional</td>\n",
       "      <td>arenoso</td>\n",
       "      <td>1</td>\n",
       "      <td>0</td>\n",
       "      <td>0.0</td>\n",
       "      <td>0</td>\n",
       "      <td>2</td>\n",
       "      <td>DanificadaPesticidas</td>\n",
       "    </tr>\n",
       "    <tr>\n",
       "      <th>3</th>\n",
       "      <td>257</td>\n",
       "      <td>convencional</td>\n",
       "      <td>argiloso</td>\n",
       "      <td>1</td>\n",
       "      <td>0</td>\n",
       "      <td>0.0</td>\n",
       "      <td>0</td>\n",
       "      <td>2</td>\n",
       "      <td>DanificadaPesticidas</td>\n",
       "    </tr>\n",
       "    <tr>\n",
       "      <th>4</th>\n",
       "      <td>342</td>\n",
       "      <td>convencional</td>\n",
       "      <td>arenoso</td>\n",
       "      <td>1</td>\n",
       "      <td>0</td>\n",
       "      <td>0.0</td>\n",
       "      <td>0</td>\n",
       "      <td>2</td>\n",
       "      <td>DanificadaPesticidas</td>\n",
       "    </tr>\n",
       "  </tbody>\n",
       "</table>\n",
       "</div>"
      ],
      "text/plain": [
       "   ContagemInsetos CategoriaCultivo  TipoSolo  TipoPesticidas  \\\n",
       "0              188     convencional   arenoso               1   \n",
       "1              209     convencional   arenoso               1   \n",
       "2              257     convencional   arenoso               1   \n",
       "3              257     convencional  argiloso               1   \n",
       "4              342     convencional   arenoso               1   \n",
       "\n",
       "   Número_Doses_Semana  Número_Semanas_Usadas  NúmeroS_Semanas_Desistência  \\\n",
       "0                    0                    0.0                            0   \n",
       "1                    0                    0.0                            0   \n",
       "2                    0                    0.0                            0   \n",
       "3                    0                    0.0                            0   \n",
       "4                    0                    0.0                            0   \n",
       "\n",
       "   TemporadaColheita Categoria_Dano_Cultivo  \n",
       "0                  1               Saudável  \n",
       "1                  2   DanificadaPesticidas  \n",
       "2                  2   DanificadaPesticidas  \n",
       "3                  2   DanificadaPesticidas  \n",
       "4                  2   DanificadaPesticidas  "
      ]
     },
     "execution_count": 180,
     "metadata": {},
     "output_type": "execute_result"
    }
   ],
   "source": [
    "df_traduzida.head()"
   ]
  },
  {
   "cell_type": "markdown",
   "metadata": {},
   "source": [
    "### AGRUPAMENTO DOS DADOS "
   ]
  },
  {
   "cell_type": "code",
   "execution_count": 181,
   "metadata": {},
   "outputs": [
    {
     "data": {
      "text/plain": [
       "ContagemInsetos\n",
       "150      254\n",
       "151      142\n",
       "168      314\n",
       "169       63\n",
       "188      397\n",
       "209      425\n",
       "231       89\n",
       "232      440\n",
       "256      386\n",
       "257      190\n",
       "283      600\n",
       "311      361\n",
       "312      375\n",
       "342      856\n",
       "375     1071\n",
       "410     1120\n",
       "411      524\n",
       "448     1925\n",
       "488     1691\n",
       "489      326\n",
       "531     2142\n",
       "577     2315\n",
       "625     1694\n",
       "626      799\n",
       "677     2627\n",
       "731     1403\n",
       "732     1412\n",
       "789     1859\n",
       "790      942\n",
       "850      483\n",
       "851     2533\n",
       "915     1972\n",
       "916      975\n",
       "984     3066\n",
       "1056    3235\n",
       "1132    3370\n",
       "1212    3438\n",
       "1296    2170\n",
       "1297    1116\n",
       "1385    3309\n",
       "1478    3358\n",
       "1575     977\n",
       "1576    2036\n",
       "1678    3029\n",
       "1785    1990\n",
       "1786     995\n",
       "1898    2826\n",
       "2015    1376\n",
       "2016    1382\n",
       "2138    1358\n",
       "2139    1280\n",
       "2267    2446\n",
       "2401    1491\n",
       "2402     742\n",
       "2541     989\n",
       "2542     996\n",
       "2687     293\n",
       "2688    1521\n",
       "2840    1545\n",
       "2999    1419\n",
       "3164     814\n",
       "3165     375\n",
       "3336     309\n",
       "3337     655\n",
       "3515     123\n",
       "3516     672\n",
       "3702     617\n",
       "3895     345\n",
       "3896     134\n",
       "4096     243\n",
       "4097     113\n",
       "dtype: int64"
      ]
     },
     "execution_count": 181,
     "metadata": {},
     "output_type": "execute_result"
    }
   ],
   "source": [
    "df_traduzida.groupby(df_traduzida['ContagemInsetos']).size()"
   ]
  },
  {
   "cell_type": "code",
   "execution_count": 182,
   "metadata": {},
   "outputs": [
    {
     "data": {
      "text/plain": [
       "CategoriaCultivo\n",
       "convencional    25269\n",
       "transgênica     63589\n",
       "dtype: int64"
      ]
     },
     "execution_count": 182,
     "metadata": {},
     "output_type": "execute_result"
    }
   ],
   "source": [
    "df_traduzida.groupby(df_traduzida['CategoriaCultivo']).size()"
   ]
  },
  {
   "cell_type": "code",
   "execution_count": 183,
   "metadata": {},
   "outputs": [
    {
     "data": {
      "text/plain": [
       "TipoSolo\n",
       "arenoso     48124\n",
       "argiloso    40734\n",
       "dtype: int64"
      ]
     },
     "execution_count": 183,
     "metadata": {},
     "output_type": "execute_result"
    }
   ],
   "source": [
    "df_traduzida.groupby(df_traduzida['TipoSolo']).size()"
   ]
  },
  {
   "cell_type": "code",
   "execution_count": 184,
   "metadata": {},
   "outputs": [
    {
     "data": {
      "text/plain": [
       "TipoPesticidas\n",
       "1      837\n",
       "2    63709\n",
       "3    24312\n",
       "dtype: int64"
      ]
     },
     "execution_count": 184,
     "metadata": {},
     "output_type": "execute_result"
    }
   ],
   "source": [
    "df_traduzida.groupby(df_traduzida['TipoPesticidas']).size()"
   ]
  },
  {
   "cell_type": "code",
   "execution_count": 185,
   "metadata": {},
   "outputs": [
    {
     "data": {
      "text/plain": [
       "Número_Doses_Semana\n",
       "0       837\n",
       "5      5520\n",
       "10    12111\n",
       "15     8178\n",
       "20    22589\n",
       "25     4890\n",
       "30    10438\n",
       "35     1832\n",
       "40    12298\n",
       "45      936\n",
       "50     3361\n",
       "55      277\n",
       "60     4367\n",
       "65       64\n",
       "70      303\n",
       "75       61\n",
       "80      672\n",
       "85       11\n",
       "90       83\n",
       "95       30\n",
       "dtype: int64"
      ]
     },
     "execution_count": 185,
     "metadata": {},
     "output_type": "execute_result"
    }
   ],
   "source": [
    "df_traduzida.groupby(df_traduzida['Número_Doses_Semana']).size() "
   ]
  },
  {
   "cell_type": "code",
   "execution_count": 186,
   "metadata": {},
   "outputs": [
    {
     "data": {
      "text/plain": [
       "Número_Semanas_Usadas\n",
       "0.00000      740\n",
       "5.00000      572\n",
       "6.00000      371\n",
       "7.00000      418\n",
       "8.00000      559\n",
       "9.00000      483\n",
       "10.00000    1835\n",
       "11.00000     783\n",
       "12.00000    1346\n",
       "13.00000    1203\n",
       "14.00000    1502\n",
       "15.00000    2486\n",
       "16.00000    1762\n",
       "17.00000    1835\n",
       "18.00000    2017\n",
       "19.00000    1769\n",
       "20.00000    3878\n",
       "21.00000    1896\n",
       "22.00000    2310\n",
       "23.00000    2086\n",
       "24.00000    2152\n",
       "25.00000    3120\n",
       "26.00000    2046\n",
       "27.00000    1952\n",
       "28.00000    2097\n",
       "28.62397    9000\n",
       "29.00000    1764\n",
       "30.00000    3765\n",
       "31.00000    1742\n",
       "32.00000    2049\n",
       "33.00000    1786\n",
       "34.00000    1912\n",
       "35.00000    2410\n",
       "36.00000    1749\n",
       "37.00000    1702\n",
       "38.00000    1626\n",
       "39.00000    1381\n",
       "40.00000    2707\n",
       "41.00000    1163\n",
       "42.00000    1327\n",
       "43.00000    1141\n",
       "44.00000    1071\n",
       "45.00000    1312\n",
       "46.00000     907\n",
       "47.00000     817\n",
       "48.00000     792\n",
       "49.00000     619\n",
       "50.00000    1351\n",
       "51.00000     447\n",
       "52.00000     534\n",
       "53.00000     431\n",
       "54.00000     385\n",
       "55.00000     439\n",
       "56.00000     255\n",
       "57.00000     214\n",
       "58.00000     183\n",
       "59.00000     105\n",
       "60.00000     269\n",
       "61.00000      70\n",
       "62.00000      65\n",
       "63.00000      50\n",
       "64.00000      44\n",
       "65.00000      31\n",
       "66.00000      17\n",
       "67.00000       8\n",
       "dtype: int64"
      ]
     },
     "execution_count": 186,
     "metadata": {},
     "output_type": "execute_result"
    }
   ],
   "source": [
    "df_traduzida.groupby(df_traduzida['Número_Semanas_Usadas']).size() "
   ]
  },
  {
   "cell_type": "code",
   "execution_count": 187,
   "metadata": {},
   "outputs": [
    {
     "data": {
      "text/plain": [
       "NúmeroS_Semanas_Desistência\n",
       "0     27274\n",
       "1      2620\n",
       "2      2743\n",
       "3      2578\n",
       "4      2528\n",
       "5      2831\n",
       "6      2584\n",
       "7      2418\n",
       "8      2294\n",
       "9      1897\n",
       "10     2893\n",
       "11     2090\n",
       "12     2701\n",
       "13     2485\n",
       "14     2610\n",
       "15     2668\n",
       "16     2108\n",
       "17     2018\n",
       "18     2030\n",
       "19     1841\n",
       "20     2209\n",
       "21     1436\n",
       "22     1414\n",
       "23     1166\n",
       "24     1054\n",
       "25     1109\n",
       "26      894\n",
       "27      820\n",
       "28      808\n",
       "29      719\n",
       "30      751\n",
       "31      530\n",
       "32      505\n",
       "33      370\n",
       "34      345\n",
       "35      301\n",
       "36      248\n",
       "37      221\n",
       "38      162\n",
       "39      109\n",
       "40      133\n",
       "41       86\n",
       "42       75\n",
       "43       51\n",
       "44       38\n",
       "45       30\n",
       "46       22\n",
       "47       21\n",
       "48       10\n",
       "49        4\n",
       "50        6\n",
       "dtype: int64"
      ]
     },
     "execution_count": 187,
     "metadata": {},
     "output_type": "execute_result"
    }
   ],
   "source": [
    "df_traduzida.groupby(df_traduzida['NúmeroS_Semanas_Desistência']).size() "
   ]
  },
  {
   "cell_type": "code",
   "execution_count": 188,
   "metadata": {},
   "outputs": [
    {
     "data": {
      "text/plain": [
       "TemporadaColheita\n",
       "1    26902\n",
       "2    44210\n",
       "3    17746\n",
       "dtype: int64"
      ]
     },
     "execution_count": 188,
     "metadata": {},
     "output_type": "execute_result"
    }
   ],
   "source": [
    "df_traduzida.groupby(df_traduzida['TemporadaColheita']).size() "
   ]
  },
  {
   "cell_type": "code",
   "execution_count": 189,
   "metadata": {},
   "outputs": [
    {
     "data": {
      "text/plain": [
       "Categoria_Dano_Cultivo\n",
       "DanificadaPesticidas         12307\n",
       "Danificada_Outros_Motivos     2313\n",
       "Saudável                     74238\n",
       "dtype: int64"
      ]
     },
     "execution_count": 189,
     "metadata": {},
     "output_type": "execute_result"
    }
   ],
   "source": [
    "df_traduzida.groupby(df_traduzida['Categoria_Dano_Cultivo']).size() "
   ]
  },
  {
   "cell_type": "markdown",
   "metadata": {},
   "source": [
    "### PLOTANDO EM UM GRAFICO"
   ]
  },
  {
   "cell_type": "code",
   "execution_count": 190,
   "metadata": {},
   "outputs": [
    {
     "data": {
      "image/png": "[encoded data removed]",
      "text/plain": [
       "<Figure size 1400x800 with 4 Axes>"
      ]
     },
     "metadata": {},
     "output_type": "display_data"
    }
   ],
   "source": [
    "plt.rcParams[\"figure.figsize\"] = [14.00, 8.00]\n",
    "plt.rcParams[\"figure.autolayout\"] = True\n",
    "f, axes = plt.subplots(2, 2)\n",
    "\n",
    "sns.countplot(data = df_traduzida, x=\"Categoria_Dano_Cultivo\", ax=axes[0][0])\n",
    "sns.countplot(data = df_traduzida, x=\"TemporadaColheita\", ax=axes[0][1])\n",
    "sns.countplot(data = df_traduzida, x=\"TipoPesticidas\", ax=axes[1][0])\n",
    "sns.countplot(data = df_traduzida, x=\"TipoSolo\", ax=axes[1][1])\n",
    "\n",
    "plt.show()"
   ]
  },
  {
   "cell_type": "markdown",
   "metadata": {},
   "source": [
    "## SEGMENTANDO OS DANOS DA SAFRA PARA ANÁLISE"
   ]
  },
  {
   "cell_type": "markdown",
   "metadata": {},
   "source": [
    "### SAUDAVÉL"
   ]
  },
  {
   "cell_type": "code",
   "execution_count": 191,
   "metadata": {},
   "outputs": [
    {
     "data": {
      "text/html": [
       "<div>\n",
       "<style scoped>\n",
       "    .dataframe tbody tr th:only-of-type {\n",
       "        vertical-align: middle;\n",
       "    }\n",
       "\n",
       "    .dataframe tbody tr th {\n",
       "        vertical-align: top;\n",
       "    }\n",
       "\n",
       "    .dataframe thead th {\n",
       "        text-align: right;\n",
       "    }\n",
       "</style>\n",
       "<table border=\"1\" class=\"dataframe\">\n",
       "  <thead>\n",
       "    <tr style=\"text-align: right;\">\n",
       "      <th></th>\n",
       "      <th>ContagemInsetos</th>\n",
       "      <th>CategoriaCultivo</th>\n",
       "      <th>TipoSolo</th>\n",
       "      <th>TipoPesticidas</th>\n",
       "      <th>Número_Doses_Semana</th>\n",
       "      <th>Número_Semanas_Usadas</th>\n",
       "      <th>NúmeroS_Semanas_Desistência</th>\n",
       "      <th>TemporadaColheita</th>\n",
       "      <th>Categoria_Dano_Cultivo</th>\n",
       "    </tr>\n",
       "  </thead>\n",
       "  <tbody>\n",
       "    <tr>\n",
       "      <th>0</th>\n",
       "      <td>188</td>\n",
       "      <td>convencional</td>\n",
       "      <td>arenoso</td>\n",
       "      <td>1</td>\n",
       "      <td>0</td>\n",
       "      <td>0.00000</td>\n",
       "      <td>0</td>\n",
       "      <td>1</td>\n",
       "      <td>Saudável</td>\n",
       "    </tr>\n",
       "    <tr>\n",
       "      <th>8</th>\n",
       "      <td>731</td>\n",
       "      <td>transgênica</td>\n",
       "      <td>arenoso</td>\n",
       "      <td>1</td>\n",
       "      <td>0</td>\n",
       "      <td>0.00000</td>\n",
       "      <td>0</td>\n",
       "      <td>2</td>\n",
       "      <td>Saudável</td>\n",
       "    </tr>\n",
       "    <tr>\n",
       "      <th>10</th>\n",
       "      <td>1212</td>\n",
       "      <td>convencional</td>\n",
       "      <td>arenoso</td>\n",
       "      <td>1</td>\n",
       "      <td>0</td>\n",
       "      <td>28.62397</td>\n",
       "      <td>0</td>\n",
       "      <td>3</td>\n",
       "      <td>Saudável</td>\n",
       "    </tr>\n",
       "    <tr>\n",
       "      <th>21</th>\n",
       "      <td>3516</td>\n",
       "      <td>convencional</td>\n",
       "      <td>arenoso</td>\n",
       "      <td>1</td>\n",
       "      <td>0</td>\n",
       "      <td>0.00000</td>\n",
       "      <td>0</td>\n",
       "      <td>2</td>\n",
       "      <td>Saudável</td>\n",
       "    </tr>\n",
       "    <tr>\n",
       "      <th>24</th>\n",
       "      <td>150</td>\n",
       "      <td>transgênica</td>\n",
       "      <td>arenoso</td>\n",
       "      <td>3</td>\n",
       "      <td>30</td>\n",
       "      <td>26.00000</td>\n",
       "      <td>0</td>\n",
       "      <td>2</td>\n",
       "      <td>Saudável</td>\n",
       "    </tr>\n",
       "  </tbody>\n",
       "</table>\n",
       "</div>"
      ],
      "text/plain": [
       "    ContagemInsetos CategoriaCultivo TipoSolo  TipoPesticidas  \\\n",
       "0               188     convencional  arenoso               1   \n",
       "8               731      transgênica  arenoso               1   \n",
       "10             1212     convencional  arenoso               1   \n",
       "21             3516     convencional  arenoso               1   \n",
       "24              150      transgênica  arenoso               3   \n",
       "\n",
       "    Número_Doses_Semana  Número_Semanas_Usadas  NúmeroS_Semanas_Desistência  \\\n",
       "0                     0                0.00000                            0   \n",
       "8                     0                0.00000                            0   \n",
       "10                    0               28.62397                            0   \n",
       "21                    0                0.00000                            0   \n",
       "24                   30               26.00000                            0   \n",
       "\n",
       "    TemporadaColheita Categoria_Dano_Cultivo  \n",
       "0                   1               Saudável  \n",
       "8                   2               Saudável  \n",
       "10                  3               Saudável  \n",
       "21                  2               Saudável  \n",
       "24                  2               Saudável  "
      ]
     },
     "execution_count": 191,
     "metadata": {},
     "output_type": "execute_result"
    }
   ],
   "source": [
    "saudavel = df_traduzida.loc[df_traduzida['Categoria_Dano_Cultivo'] == 'Saudável']\n",
    "saudavel.head()"
   ]
  },
  {
   "cell_type": "markdown",
   "metadata": {},
   "source": [
    "### ANALISANDO TEMPORADA, TIPO PESTICIDAS E TIPO DO SOLO DE SAUDAVÉL "
   ]
  },
  {
   "cell_type": "code",
   "execution_count": 192,
   "metadata": {},
   "outputs": [
    {
     "data": {
      "image/png": "[encoded data removed]",
      "text/plain": [
       "<Figure size 1400x800 with 4 Axes>"
      ]
     },
     "metadata": {},
     "output_type": "display_data"
    }
   ],
   "source": [
    "plt.rcParams[\"figure.figsize\"] = [14.00, 8.00]\n",
    "plt.rcParams[\"figure.autolayout\"] = True\n",
    "f, axes = plt.subplots(2, 2)\n",
    "\n",
    "sns.countplot(data = saudavel, x=\"TemporadaColheita\", ax=axes[0][1])\n",
    "sns.countplot(data = saudavel, x=\"TipoPesticidas\", ax=axes[1][0])\n",
    "sns.countplot(data = saudavel, x=\"TipoSolo\", ax=axes[1][1])\n",
    "\n",
    "plt.show()"
   ]
  },
  {
   "cell_type": "markdown",
   "metadata": {},
   "source": [
    "### ANALISANDO INSERTOS, NÚMEROS DE SEMANAS, DESISTENCIA E USADAS DE TIPO DE COLHEITA"
   ]
  },
  {
   "cell_type": "code",
   "execution_count": 193,
   "metadata": {},
   "outputs": [
    {
     "data": {
      "text/html": [
       "<div>\n",
       "<style scoped>\n",
       "    .dataframe tbody tr th:only-of-type {\n",
       "        vertical-align: middle;\n",
       "    }\n",
       "\n",
       "    .dataframe tbody tr th {\n",
       "        vertical-align: top;\n",
       "    }\n",
       "\n",
       "    .dataframe thead th {\n",
       "        text-align: right;\n",
       "    }\n",
       "</style>\n",
       "<table border=\"1\" class=\"dataframe\">\n",
       "  <thead>\n",
       "    <tr style=\"text-align: right;\">\n",
       "      <th></th>\n",
       "      <th>Quantidade</th>\n",
       "      <th>SomaInsetos</th>\n",
       "      <th>MédiaInsetos</th>\n",
       "      <th>SomaSemanasDoses</th>\n",
       "      <th>MédiaSemanasDoses</th>\n",
       "      <th>SomaSemanasUsadas</th>\n",
       "      <th>MédiaSemanasUsadas</th>\n",
       "      <th>SomaSemanasDesistência</th>\n",
       "      <th>MédiaSemanasDesistência</th>\n",
       "    </tr>\n",
       "    <tr>\n",
       "      <th>TemporadaColheita</th>\n",
       "      <th></th>\n",
       "      <th></th>\n",
       "      <th></th>\n",
       "      <th></th>\n",
       "      <th></th>\n",
       "      <th></th>\n",
       "      <th></th>\n",
       "      <th></th>\n",
       "      <th></th>\n",
       "    </tr>\n",
       "  </thead>\n",
       "  <tbody>\n",
       "    <tr>\n",
       "      <th>2</th>\n",
       "      <td>36881</td>\n",
       "      <td>48649677</td>\n",
       "      <td>1319.098642</td>\n",
       "      <td>962550</td>\n",
       "      <td>26.098804</td>\n",
       "      <td>1.014503e+06</td>\n",
       "      <td>27.507464</td>\n",
       "      <td>373636</td>\n",
       "      <td>10.130853</td>\n",
       "    </tr>\n",
       "    <tr>\n",
       "      <th>1</th>\n",
       "      <td>22493</td>\n",
       "      <td>29464553</td>\n",
       "      <td>1309.943227</td>\n",
       "      <td>589290</td>\n",
       "      <td>26.198817</td>\n",
       "      <td>6.164067e+05</td>\n",
       "      <td>27.404378</td>\n",
       "      <td>227459</td>\n",
       "      <td>10.112435</td>\n",
       "    </tr>\n",
       "    <tr>\n",
       "      <th>3</th>\n",
       "      <td>14864</td>\n",
       "      <td>19561255</td>\n",
       "      <td>1316.015541</td>\n",
       "      <td>387200</td>\n",
       "      <td>26.049516</td>\n",
       "      <td>4.090242e+05</td>\n",
       "      <td>27.517774</td>\n",
       "      <td>149499</td>\n",
       "      <td>10.057791</td>\n",
       "    </tr>\n",
       "  </tbody>\n",
       "</table>\n",
       "</div>"
      ],
      "text/plain": [
       "                   Quantidade  SomaInsetos  MédiaInsetos  SomaSemanasDoses  \\\n",
       "TemporadaColheita                                                            \n",
       "2                       36881     48649677   1319.098642            962550   \n",
       "1                       22493     29464553   1309.943227            589290   \n",
       "3                       14864     19561255   1316.015541            387200   \n",
       "\n",
       "                   MédiaSemanasDoses  SomaSemanasUsadas  MédiaSemanasUsadas  \\\n",
       "TemporadaColheita                                                             \n",
       "2                          26.098804       1.014503e+06           27.507464   \n",
       "1                          26.198817       6.164067e+05           27.404378   \n",
       "3                          26.049516       4.090242e+05           27.517774   \n",
       "\n",
       "                   SomaSemanasDesistência  MédiaSemanasDesistência  \n",
       "TemporadaColheita                                                   \n",
       "2                                  373636                10.130853  \n",
       "1                                  227459                10.112435  \n",
       "3                                  149499                10.057791  "
      ]
     },
     "execution_count": 193,
     "metadata": {},
     "output_type": "execute_result"
    }
   ],
   "source": [
    "Quantidade = saudavel.groupby([\"TemporadaColheita\"])[\"ContagemInsetos\"].count().rename('Quantidade')\n",
    "insetos = saudavel.groupby(['TemporadaColheita'])['ContagemInsetos'].sum().rename('SomaInsetos')\n",
    "insetos_media =saudavel.groupby(['TemporadaColheita'])['ContagemInsetos'].mean().rename('MédiaInsetos')\n",
    "semanas = saudavel.groupby(['TemporadaColheita'])['Número_Doses_Semana'].sum().rename('SomaSemanasDoses')\n",
    "semanas_media = saudavel.groupby(['TemporadaColheita'])['Número_Doses_Semana'].mean().rename('MédiaSemanasDoses') \n",
    "semanas_usadas = saudavel.groupby(['TemporadaColheita'])['Número_Semanas_Usadas'].sum().rename('SomaSemanasUsadas')\n",
    "semanas_usadas_media = saudavel.groupby(['TemporadaColheita'])['Número_Semanas_Usadas'].mean().rename('MédiaSemanasUsadas')\n",
    "semanas_desisteicias = saudavel.groupby(['TemporadaColheita'])['NúmeroS_Semanas_Desistência'].sum().rename('SomaSemanasDesistência')\n",
    "semanas_desisteicias_media = saudavel.groupby(['TemporadaColheita'])['NúmeroS_Semanas_Desistência'].mean().rename('MédiaSemanasDesistência')\n",
    "# Dataframe para os resultados\n",
    "dados_usuarios = pd.DataFrame({\"Quantidade\":Quantidade,'SomaInsetos':insetos,'MédiaInsetos':insetos_media,'SomaSemanasDoses':semanas,'MédiaSemanasDoses':semanas_media,'SomaSemanasUsadas':semanas_usadas,'MédiaSemanasUsadas':semanas_usadas_media,'SomaSemanasDesistência':semanas_desisteicias,'MédiaSemanasDesistência':semanas_desisteicias_media})\n",
    "\n",
    "dados_usuarios.sort_values(\"Quantidade\", ascending=False).head(5)"
   ]
  },
  {
   "cell_type": "markdown",
   "metadata": {},
   "source": [
    "### ANALISANDO INSERTOS, NÚMEROS DE SEMANAS, DESISTENCIA E USADAS DE CATEGORIA CULTIVO"
   ]
  },
  {
   "cell_type": "code",
   "execution_count": 194,
   "metadata": {},
   "outputs": [
    {
     "data": {
      "text/html": [
       "<div>\n",
       "<style scoped>\n",
       "    .dataframe tbody tr th:only-of-type {\n",
       "        vertical-align: middle;\n",
       "    }\n",
       "\n",
       "    .dataframe tbody tr th {\n",
       "        vertical-align: top;\n",
       "    }\n",
       "\n",
       "    .dataframe thead th {\n",
       "        text-align: right;\n",
       "    }\n",
       "</style>\n",
       "<table border=\"1\" class=\"dataframe\">\n",
       "  <thead>\n",
       "    <tr style=\"text-align: right;\">\n",
       "      <th></th>\n",
       "      <th>Quantidade</th>\n",
       "      <th>SomaInsetos</th>\n",
       "      <th>MédiaInsetos</th>\n",
       "      <th>SomaSemanasDoses</th>\n",
       "      <th>MédiaSemanasDoses</th>\n",
       "      <th>SomaSemanasUsadas</th>\n",
       "      <th>MédiaSemanasUsadas</th>\n",
       "      <th>SomaSemanasDesistência</th>\n",
       "      <th>MédiaSemanasDesistência</th>\n",
       "    </tr>\n",
       "    <tr>\n",
       "      <th>CategoriaCultivo</th>\n",
       "      <th></th>\n",
       "      <th></th>\n",
       "      <th></th>\n",
       "      <th></th>\n",
       "      <th></th>\n",
       "      <th></th>\n",
       "      <th></th>\n",
       "      <th></th>\n",
       "      <th></th>\n",
       "    </tr>\n",
       "  </thead>\n",
       "  <tbody>\n",
       "    <tr>\n",
       "      <th>transgênica</th>\n",
       "      <td>52778</td>\n",
       "      <td>71563969</td>\n",
       "      <td>1355.943177</td>\n",
       "      <td>1478885</td>\n",
       "      <td>28.020861</td>\n",
       "      <td>1.459316e+06</td>\n",
       "      <td>27.650085</td>\n",
       "      <td>609672</td>\n",
       "      <td>11.551631</td>\n",
       "    </tr>\n",
       "    <tr>\n",
       "      <th>convencional</th>\n",
       "      <td>21460</td>\n",
       "      <td>26111516</td>\n",
       "      <td>1216.752842</td>\n",
       "      <td>460155</td>\n",
       "      <td>21.442451</td>\n",
       "      <td>5.806175e+05</td>\n",
       "      <td>27.055800</td>\n",
       "      <td>140922</td>\n",
       "      <td>6.566729</td>\n",
       "    </tr>\n",
       "  </tbody>\n",
       "</table>\n",
       "</div>"
      ],
      "text/plain": [
       "                  Quantidade  SomaInsetos  MédiaInsetos  SomaSemanasDoses  \\\n",
       "CategoriaCultivo                                                            \n",
       "transgênica            52778     71563969   1355.943177           1478885   \n",
       "convencional           21460     26111516   1216.752842            460155   \n",
       "\n",
       "                  MédiaSemanasDoses  SomaSemanasUsadas  MédiaSemanasUsadas  \\\n",
       "CategoriaCultivo                                                             \n",
       "transgênica               28.020861       1.459316e+06           27.650085   \n",
       "convencional              21.442451       5.806175e+05           27.055800   \n",
       "\n",
       "                  SomaSemanasDesistência  MédiaSemanasDesistência  \n",
       "CategoriaCultivo                                                   \n",
       "transgênica                       609672                11.551631  \n",
       "convencional                      140922                 6.566729  "
      ]
     },
     "execution_count": 194,
     "metadata": {},
     "output_type": "execute_result"
    }
   ],
   "source": [
    "Quantidade = saudavel.groupby([\"CategoriaCultivo\"])[\"ContagemInsetos\"].count().rename('Quantidade')\n",
    "insetos = saudavel.groupby(['CategoriaCultivo'])['ContagemInsetos'].sum().rename('SomaInsetos')\n",
    "insetos_media =saudavel.groupby(['CategoriaCultivo'])['ContagemInsetos'].mean().rename('MédiaInsetos')\n",
    "semanas = saudavel.groupby(['CategoriaCultivo'])['Número_Doses_Semana'].sum().rename('SomaSemanasDoses')\n",
    "semanas_media = saudavel.groupby(['CategoriaCultivo'])['Número_Doses_Semana'].mean().rename('MédiaSemanasDoses') \n",
    "semanas_usadas = saudavel.groupby(['CategoriaCultivo'])['Número_Semanas_Usadas'].sum().rename('SomaSemanasUsadas')\n",
    "semanas_usadas_media = saudavel.groupby(['CategoriaCultivo'])['Número_Semanas_Usadas'].mean().rename('MédiaSemanasUsadas')\n",
    "semanas_desisteicias = saudavel.groupby(['CategoriaCultivo'])['NúmeroS_Semanas_Desistência'].sum().rename('SomaSemanasDesistência')\n",
    "semanas_desisteicias_media = saudavel.groupby(['CategoriaCultivo'])['NúmeroS_Semanas_Desistência'].mean().rename('MédiaSemanasDesistência')\n",
    "# Dataframe para os resultados\n",
    "dados_usuarios = pd.DataFrame({\"Quantidade\":Quantidade,'SomaInsetos':insetos,'MédiaInsetos':insetos_media,'SomaSemanasDoses':semanas,'MédiaSemanasDoses':semanas_media,'SomaSemanasUsadas':semanas_usadas,'MédiaSemanasUsadas':semanas_usadas_media,'SomaSemanasDesistência':semanas_desisteicias,'MédiaSemanasDesistência':semanas_desisteicias_media})\n",
    "\n",
    "dados_usuarios.sort_values(\"Quantidade\", ascending=False).head(5)"
   ]
  },
  {
   "cell_type": "markdown",
   "metadata": {},
   "source": [
    "### ANALISANDO INSERTOS, NÚMEROS DE SEMANAS, DESISTENCIA E USADAS DE TIPO SOLO"
   ]
  },
  {
   "cell_type": "code",
   "execution_count": 195,
   "metadata": {},
   "outputs": [
    {
     "data": {
      "text/html": [
       "<div>\n",
       "<style scoped>\n",
       "    .dataframe tbody tr th:only-of-type {\n",
       "        vertical-align: middle;\n",
       "    }\n",
       "\n",
       "    .dataframe tbody tr th {\n",
       "        vertical-align: top;\n",
       "    }\n",
       "\n",
       "    .dataframe thead th {\n",
       "        text-align: right;\n",
       "    }\n",
       "</style>\n",
       "<table border=\"1\" class=\"dataframe\">\n",
       "  <thead>\n",
       "    <tr style=\"text-align: right;\">\n",
       "      <th></th>\n",
       "      <th>Quantidade</th>\n",
       "      <th>SomaInsetos</th>\n",
       "      <th>MédiaInsetos</th>\n",
       "      <th>SomaSemanasDoses</th>\n",
       "      <th>MédiaSemanasDoses</th>\n",
       "      <th>SomaSemanasUsadas</th>\n",
       "      <th>MédiaSemanasUsadas</th>\n",
       "      <th>SomaSemanasDesistência</th>\n",
       "      <th>MédiaSemanasDesistência</th>\n",
       "    </tr>\n",
       "    <tr>\n",
       "      <th>TipoSolo</th>\n",
       "      <th></th>\n",
       "      <th></th>\n",
       "      <th></th>\n",
       "      <th></th>\n",
       "      <th></th>\n",
       "      <th></th>\n",
       "      <th></th>\n",
       "      <th></th>\n",
       "      <th></th>\n",
       "    </tr>\n",
       "  </thead>\n",
       "  <tbody>\n",
       "    <tr>\n",
       "      <th>arenoso</th>\n",
       "      <td>39841</td>\n",
       "      <td>53852763</td>\n",
       "      <td>1351.692051</td>\n",
       "      <td>992020</td>\n",
       "      <td>24.899475</td>\n",
       "      <td>1.116817e+06</td>\n",
       "      <td>28.031861</td>\n",
       "      <td>401371</td>\n",
       "      <td>10.074320</td>\n",
       "    </tr>\n",
       "    <tr>\n",
       "      <th>argiloso</th>\n",
       "      <td>34397</td>\n",
       "      <td>43822722</td>\n",
       "      <td>1274.027444</td>\n",
       "      <td>947020</td>\n",
       "      <td>27.532052</td>\n",
       "      <td>9.231163e+05</td>\n",
       "      <td>26.837116</td>\n",
       "      <td>349223</td>\n",
       "      <td>10.152717</td>\n",
       "    </tr>\n",
       "  </tbody>\n",
       "</table>\n",
       "</div>"
      ],
      "text/plain": [
       "          Quantidade  SomaInsetos  MédiaInsetos  SomaSemanasDoses  \\\n",
       "TipoSolo                                                            \n",
       "arenoso        39841     53852763   1351.692051            992020   \n",
       "argiloso       34397     43822722   1274.027444            947020   \n",
       "\n",
       "          MédiaSemanasDoses  SomaSemanasUsadas  MédiaSemanasUsadas  \\\n",
       "TipoSolo                                                             \n",
       "arenoso           24.899475       1.116817e+06           28.031861   \n",
       "argiloso          27.532052       9.231163e+05           26.837116   \n",
       "\n",
       "          SomaSemanasDesistência  MédiaSemanasDesistência  \n",
       "TipoSolo                                                   \n",
       "arenoso                   401371                10.074320  \n",
       "argiloso                  349223                10.152717  "
      ]
     },
     "execution_count": 195,
     "metadata": {},
     "output_type": "execute_result"
    }
   ],
   "source": [
    "Quantidade = saudavel.groupby([\"TipoSolo\"])[\"ContagemInsetos\"].count().rename('Quantidade')\n",
    "insetos = saudavel.groupby(['TipoSolo'])['ContagemInsetos'].sum().rename('SomaInsetos')\n",
    "insetos_media =saudavel.groupby(['TipoSolo'])['ContagemInsetos'].mean().rename('MédiaInsetos')\n",
    "semanas = saudavel.groupby(['TipoSolo'])['Número_Doses_Semana'].sum().rename('SomaSemanasDoses')\n",
    "semanas_media = saudavel.groupby(['TipoSolo'])['Número_Doses_Semana'].mean().rename('MédiaSemanasDoses') \n",
    "semanas_usadas = saudavel.groupby(['TipoSolo'])['Número_Semanas_Usadas'].sum().rename('SomaSemanasUsadas')\n",
    "semanas_usadas_media = saudavel.groupby(['TipoSolo'])['Número_Semanas_Usadas'].mean().rename('MédiaSemanasUsadas')\n",
    "semanas_desisteicias = saudavel.groupby(['TipoSolo'])['NúmeroS_Semanas_Desistência'].sum().rename('SomaSemanasDesistência')\n",
    "semanas_desisteicias_media = saudavel.groupby(['TipoSolo'])['NúmeroS_Semanas_Desistência'].mean().rename('MédiaSemanasDesistência')\n",
    "# Dataframe para os resultados\n",
    "dados_usuarios = pd.DataFrame({\"Quantidade\":Quantidade,'SomaInsetos':insetos,'MédiaInsetos':insetos_media,'SomaSemanasDoses':semanas,'MédiaSemanasDoses':semanas_media,'SomaSemanasUsadas':semanas_usadas,'MédiaSemanasUsadas':semanas_usadas_media,'SomaSemanasDesistência':semanas_desisteicias,'MédiaSemanasDesistência':semanas_desisteicias_media})\n",
    "\n",
    "dados_usuarios.sort_values(\"Quantidade\", ascending=False).head(5)"
   ]
  },
  {
   "cell_type": "markdown",
   "metadata": {},
   "source": [
    "### DANIFICADA POR PESTICIDAS"
   ]
  },
  {
   "cell_type": "code",
   "execution_count": 196,
   "metadata": {},
   "outputs": [
    {
     "data": {
      "text/html": [
       "<div>\n",
       "<style scoped>\n",
       "    .dataframe tbody tr th:only-of-type {\n",
       "        vertical-align: middle;\n",
       "    }\n",
       "\n",
       "    .dataframe tbody tr th {\n",
       "        vertical-align: top;\n",
       "    }\n",
       "\n",
       "    .dataframe thead th {\n",
       "        text-align: right;\n",
       "    }\n",
       "</style>\n",
       "<table border=\"1\" class=\"dataframe\">\n",
       "  <thead>\n",
       "    <tr style=\"text-align: right;\">\n",
       "      <th></th>\n",
       "      <th>ContagemInsetos</th>\n",
       "      <th>CategoriaCultivo</th>\n",
       "      <th>TipoSolo</th>\n",
       "      <th>TipoPesticidas</th>\n",
       "      <th>Número_Doses_Semana</th>\n",
       "      <th>Número_Semanas_Usadas</th>\n",
       "      <th>NúmeroS_Semanas_Desistência</th>\n",
       "      <th>TemporadaColheita</th>\n",
       "      <th>Categoria_Dano_Cultivo</th>\n",
       "    </tr>\n",
       "  </thead>\n",
       "  <tbody>\n",
       "    <tr>\n",
       "      <th>1</th>\n",
       "      <td>209</td>\n",
       "      <td>convencional</td>\n",
       "      <td>arenoso</td>\n",
       "      <td>1</td>\n",
       "      <td>0</td>\n",
       "      <td>0.0</td>\n",
       "      <td>0</td>\n",
       "      <td>2</td>\n",
       "      <td>DanificadaPesticidas</td>\n",
       "    </tr>\n",
       "  </tbody>\n",
       "</table>\n",
       "</div>"
      ],
      "text/plain": [
       "   ContagemInsetos CategoriaCultivo TipoSolo  TipoPesticidas  \\\n",
       "1              209     convencional  arenoso               1   \n",
       "\n",
       "   Número_Doses_Semana  Número_Semanas_Usadas  NúmeroS_Semanas_Desistência  \\\n",
       "1                    0                    0.0                            0   \n",
       "\n",
       "   TemporadaColheita Categoria_Dano_Cultivo  \n",
       "1                  2   DanificadaPesticidas  "
      ]
     },
     "execution_count": 196,
     "metadata": {},
     "output_type": "execute_result"
    }
   ],
   "source": [
    "DanificadaPesticidas = df_traduzida.loc[df_traduzida['Categoria_Dano_Cultivo'] == 'DanificadaPesticidas']\n",
    "DanificadaPesticidas.head(1)"
   ]
  },
  {
   "cell_type": "markdown",
   "metadata": {},
   "source": [
    "### ANALISANDO TEMPORADA, TIPO PESTICIDAS E TIPO DO SOLO DE DANIFICADO POR PESTICIDAS"
   ]
  },
  {
   "cell_type": "code",
   "execution_count": 197,
   "metadata": {},
   "outputs": [
    {
     "data": {
      "image/png": "[encoded data removed]",
      "text/plain": [
       "<Figure size 1400x800 with 4 Axes>"
      ]
     },
     "metadata": {},
     "output_type": "display_data"
    }
   ],
   "source": [
    "plt.rcParams[\"figure.figsize\"] = [14.00, 8.00]\n",
    "plt.rcParams[\"figure.autolayout\"] = True\n",
    "f, axes = plt.subplots(2, 2)\n",
    "\n",
    "sns.countplot(data = DanificadaPesticidas, x=\"TemporadaColheita\", ax=axes[0][1])\n",
    "sns.countplot(data = DanificadaPesticidas, x=\"TipoPesticidas\", ax=axes[1][0])\n",
    "sns.countplot(data = DanificadaPesticidas, x=\"TipoSolo\", ax=axes[1][1])\n",
    "\n",
    "plt.show()"
   ]
  },
  {
   "cell_type": "markdown",
   "metadata": {},
   "source": [
    "### ANALISANDO INSERTOS, NÚMEROS DE SEMANAS, DESISTENCIA E USADAS DE TIPO DE COLHEITA"
   ]
  },
  {
   "cell_type": "code",
   "execution_count": 198,
   "metadata": {},
   "outputs": [
    {
     "data": {
      "text/html": [
       "<div>\n",
       "<style scoped>\n",
       "    .dataframe tbody tr th:only-of-type {\n",
       "        vertical-align: middle;\n",
       "    }\n",
       "\n",
       "    .dataframe tbody tr th {\n",
       "        vertical-align: top;\n",
       "    }\n",
       "\n",
       "    .dataframe thead th {\n",
       "        text-align: right;\n",
       "    }\n",
       "</style>\n",
       "<table border=\"1\" class=\"dataframe\">\n",
       "  <thead>\n",
       "    <tr style=\"text-align: right;\">\n",
       "      <th></th>\n",
       "      <th>Quantidade</th>\n",
       "      <th>SomaInsetos</th>\n",
       "      <th>MédiaInsetos</th>\n",
       "      <th>SomaSemanasDoses</th>\n",
       "      <th>MédiaSemanasDoses</th>\n",
       "      <th>SomaSemanasUsadas</th>\n",
       "      <th>MédiaSemanasUsadas</th>\n",
       "      <th>SomaSemanasDesistência</th>\n",
       "      <th>MédiaSemanasDesistência</th>\n",
       "    </tr>\n",
       "    <tr>\n",
       "      <th>TemporadaColheita</th>\n",
       "      <th></th>\n",
       "      <th></th>\n",
       "      <th></th>\n",
       "      <th></th>\n",
       "      <th></th>\n",
       "      <th></th>\n",
       "      <th></th>\n",
       "      <th></th>\n",
       "      <th></th>\n",
       "    </tr>\n",
       "  </thead>\n",
       "  <tbody>\n",
       "    <tr>\n",
       "      <th>2</th>\n",
       "      <td>6115</td>\n",
       "      <td>11176458</td>\n",
       "      <td>1827.711856</td>\n",
       "      <td>147995</td>\n",
       "      <td>24.201962</td>\n",
       "      <td>208208.716860</td>\n",
       "      <td>34.048850</td>\n",
       "      <td>45565</td>\n",
       "      <td>7.451349</td>\n",
       "    </tr>\n",
       "    <tr>\n",
       "      <th>1</th>\n",
       "      <td>3748</td>\n",
       "      <td>6917594</td>\n",
       "      <td>1845.676094</td>\n",
       "      <td>90020</td>\n",
       "      <td>24.018143</td>\n",
       "      <td>126618.501127</td>\n",
       "      <td>33.782951</td>\n",
       "      <td>28580</td>\n",
       "      <td>7.625400</td>\n",
       "    </tr>\n",
       "    <tr>\n",
       "      <th>3</th>\n",
       "      <td>2444</td>\n",
       "      <td>4539828</td>\n",
       "      <td>1857.540098</td>\n",
       "      <td>59520</td>\n",
       "      <td>24.353519</td>\n",
       "      <td>83423.496632</td>\n",
       "      <td>34.134000</td>\n",
       "      <td>19766</td>\n",
       "      <td>8.087561</td>\n",
       "    </tr>\n",
       "  </tbody>\n",
       "</table>\n",
       "</div>"
      ],
      "text/plain": [
       "                   Quantidade  SomaInsetos  MédiaInsetos  SomaSemanasDoses  \\\n",
       "TemporadaColheita                                                            \n",
       "2                        6115     11176458   1827.711856            147995   \n",
       "1                        3748      6917594   1845.676094             90020   \n",
       "3                        2444      4539828   1857.540098             59520   \n",
       "\n",
       "                   MédiaSemanasDoses  SomaSemanasUsadas  MédiaSemanasUsadas  \\\n",
       "TemporadaColheita                                                             \n",
       "2                          24.201962      208208.716860           34.048850   \n",
       "1                          24.018143      126618.501127           33.782951   \n",
       "3                          24.353519       83423.496632           34.134000   \n",
       "\n",
       "                   SomaSemanasDesistência  MédiaSemanasDesistência  \n",
       "TemporadaColheita                                                   \n",
       "2                                   45565                 7.451349  \n",
       "1                                   28580                 7.625400  \n",
       "3                                   19766                 8.087561  "
      ]
     },
     "execution_count": 198,
     "metadata": {},
     "output_type": "execute_result"
    }
   ],
   "source": [
    "Quantidade = DanificadaPesticidas.groupby([\"TemporadaColheita\"])[\"ContagemInsetos\"].count().rename('Quantidade')\n",
    "insetos = DanificadaPesticidas.groupby(['TemporadaColheita'])['ContagemInsetos'].sum().rename('SomaInsetos')\n",
    "insetos_media =DanificadaPesticidas.groupby(['TemporadaColheita'])['ContagemInsetos'].mean().rename('MédiaInsetos')\n",
    "semanas = DanificadaPesticidas.groupby(['TemporadaColheita'])['Número_Doses_Semana'].sum().rename('SomaSemanasDoses')\n",
    "semanas_media = DanificadaPesticidas.groupby(['TemporadaColheita'])['Número_Doses_Semana'].mean().rename('MédiaSemanasDoses') \n",
    "semanas_usadas = DanificadaPesticidas.groupby(['TemporadaColheita'])['Número_Semanas_Usadas'].sum().rename('SomaSemanasUsadas')\n",
    "semanas_usadas_media = DanificadaPesticidas.groupby(['TemporadaColheita'])['Número_Semanas_Usadas'].mean().rename('MédiaSemanasUsadas')\n",
    "semanas_desisteicias = DanificadaPesticidas.groupby(['TemporadaColheita'])['NúmeroS_Semanas_Desistência'].sum().rename('SomaSemanasDesistência')\n",
    "semanas_desisteicias_media = DanificadaPesticidas.groupby(['TemporadaColheita'])['NúmeroS_Semanas_Desistência'].mean().rename('MédiaSemanasDesistência')\n",
    "# Dataframe para os resultados\n",
    "dados_usuarios = pd.DataFrame({\"Quantidade\":Quantidade,'SomaInsetos':insetos,'MédiaInsetos':insetos_media,'SomaSemanasDoses':semanas,'MédiaSemanasDoses':semanas_media,'SomaSemanasUsadas':semanas_usadas,'MédiaSemanasUsadas':semanas_usadas_media,'SomaSemanasDesistência':semanas_desisteicias,'MédiaSemanasDesistência':semanas_desisteicias_media})\n",
    "\n",
    "dados_usuarios.sort_values(\"Quantidade\", ascending=False).head(5)"
   ]
  },
  {
   "cell_type": "markdown",
   "metadata": {},
   "source": [
    "### ANALISANDO INSERTOS, NÚMEROS DE SEMANAS, DESISTENCIA E USADAS DE CATEGORIA CULTIVO"
   ]
  },
  {
   "cell_type": "code",
   "execution_count": 199,
   "metadata": {},
   "outputs": [
    {
     "data": {
      "text/html": [
       "<div>\n",
       "<style scoped>\n",
       "    .dataframe tbody tr th:only-of-type {\n",
       "        vertical-align: middle;\n",
       "    }\n",
       "\n",
       "    .dataframe tbody tr th {\n",
       "        vertical-align: top;\n",
       "    }\n",
       "\n",
       "    .dataframe thead th {\n",
       "        text-align: right;\n",
       "    }\n",
       "</style>\n",
       "<table border=\"1\" class=\"dataframe\">\n",
       "  <thead>\n",
       "    <tr style=\"text-align: right;\">\n",
       "      <th></th>\n",
       "      <th>Quantidade</th>\n",
       "      <th>SomaInsetos</th>\n",
       "      <th>MédiaInsetos</th>\n",
       "      <th>SomaSemanasDoses</th>\n",
       "      <th>MédiaSemanasDoses</th>\n",
       "      <th>SomaSemanasUsadas</th>\n",
       "      <th>MédiaSemanasUsadas</th>\n",
       "      <th>SomaSemanasDesistência</th>\n",
       "      <th>MédiaSemanasDesistência</th>\n",
       "    </tr>\n",
       "    <tr>\n",
       "      <th>CategoriaCultivo</th>\n",
       "      <th></th>\n",
       "      <th></th>\n",
       "      <th></th>\n",
       "      <th></th>\n",
       "      <th></th>\n",
       "      <th></th>\n",
       "      <th></th>\n",
       "      <th></th>\n",
       "      <th></th>\n",
       "    </tr>\n",
       "  </thead>\n",
       "  <tbody>\n",
       "    <tr>\n",
       "      <th>transgênica</th>\n",
       "      <td>9204</td>\n",
       "      <td>17511506</td>\n",
       "      <td>1902.597349</td>\n",
       "      <td>239235</td>\n",
       "      <td>25.992503</td>\n",
       "      <td>317937.779784</td>\n",
       "      <td>34.543435</td>\n",
       "      <td>85715</td>\n",
       "      <td>9.312799</td>\n",
       "    </tr>\n",
       "    <tr>\n",
       "      <th>convencional</th>\n",
       "      <td>3103</td>\n",
       "      <td>5122374</td>\n",
       "      <td>1650.781180</td>\n",
       "      <td>58300</td>\n",
       "      <td>18.788269</td>\n",
       "      <td>100312.934834</td>\n",
       "      <td>32.327726</td>\n",
       "      <td>8196</td>\n",
       "      <td>2.641315</td>\n",
       "    </tr>\n",
       "  </tbody>\n",
       "</table>\n",
       "</div>"
      ],
      "text/plain": [
       "                  Quantidade  SomaInsetos  MédiaInsetos  SomaSemanasDoses  \\\n",
       "CategoriaCultivo                                                            \n",
       "transgênica             9204     17511506   1902.597349            239235   \n",
       "convencional            3103      5122374   1650.781180             58300   \n",
       "\n",
       "                  MédiaSemanasDoses  SomaSemanasUsadas  MédiaSemanasUsadas  \\\n",
       "CategoriaCultivo                                                             \n",
       "transgênica               25.992503      317937.779784           34.543435   \n",
       "convencional              18.788269      100312.934834           32.327726   \n",
       "\n",
       "                  SomaSemanasDesistência  MédiaSemanasDesistência  \n",
       "CategoriaCultivo                                                   \n",
       "transgênica                        85715                 9.312799  \n",
       "convencional                        8196                 2.641315  "
      ]
     },
     "execution_count": 199,
     "metadata": {},
     "output_type": "execute_result"
    }
   ],
   "source": [
    "Quantidade = DanificadaPesticidas.groupby([\"CategoriaCultivo\"])[\"ContagemInsetos\"].count().rename('Quantidade')\n",
    "insetos = DanificadaPesticidas.groupby(['CategoriaCultivo'])['ContagemInsetos'].sum().rename('SomaInsetos')\n",
    "insetos_media =DanificadaPesticidas.groupby(['CategoriaCultivo'])['ContagemInsetos'].mean().rename('MédiaInsetos')\n",
    "semanas = DanificadaPesticidas.groupby(['CategoriaCultivo'])['Número_Doses_Semana'].sum().rename('SomaSemanasDoses')\n",
    "semanas_media = DanificadaPesticidas.groupby(['CategoriaCultivo'])['Número_Doses_Semana'].mean().rename('MédiaSemanasDoses') \n",
    "semanas_usadas = DanificadaPesticidas.groupby(['CategoriaCultivo'])['Número_Semanas_Usadas'].sum().rename('SomaSemanasUsadas')\n",
    "semanas_usadas_media = DanificadaPesticidas.groupby(['CategoriaCultivo'])['Número_Semanas_Usadas'].mean().rename('MédiaSemanasUsadas')\n",
    "semanas_desisteicias = DanificadaPesticidas.groupby(['CategoriaCultivo'])['NúmeroS_Semanas_Desistência'].sum().rename('SomaSemanasDesistência')\n",
    "semanas_desisteicias_media = DanificadaPesticidas.groupby(['CategoriaCultivo'])['NúmeroS_Semanas_Desistência'].mean().rename('MédiaSemanasDesistência')\n",
    "# Dataframe para os resultados\n",
    "dados_usuarios = pd.DataFrame({\"Quantidade\":Quantidade,'SomaInsetos':insetos,'MédiaInsetos':insetos_media,'SomaSemanasDoses':semanas,'MédiaSemanasDoses':semanas_media,'SomaSemanasUsadas':semanas_usadas,'MédiaSemanasUsadas':semanas_usadas_media,'SomaSemanasDesistência':semanas_desisteicias,'MédiaSemanasDesistência':semanas_desisteicias_media})\n",
    "\n",
    "dados_usuarios.sort_values(\"Quantidade\", ascending=False).head(5)"
   ]
  },
  {
   "cell_type": "markdown",
   "metadata": {},
   "source": [
    "### ANALISANDO INSERTOS, NÚMEROS DE SEMANAS, DESISTENCIA E USADAS DE TIPO SOLO"
   ]
  },
  {
   "cell_type": "code",
   "execution_count": 200,
   "metadata": {},
   "outputs": [
    {
     "data": {
      "text/html": [
       "<div>\n",
       "<style scoped>\n",
       "    .dataframe tbody tr th:only-of-type {\n",
       "        vertical-align: middle;\n",
       "    }\n",
       "\n",
       "    .dataframe tbody tr th {\n",
       "        vertical-align: top;\n",
       "    }\n",
       "\n",
       "    .dataframe thead th {\n",
       "        text-align: right;\n",
       "    }\n",
       "</style>\n",
       "<table border=\"1\" class=\"dataframe\">\n",
       "  <thead>\n",
       "    <tr style=\"text-align: right;\">\n",
       "      <th></th>\n",
       "      <th>Quantidade</th>\n",
       "      <th>SomaInsetos</th>\n",
       "      <th>MédiaInsetos</th>\n",
       "      <th>SomaSemanasDoses</th>\n",
       "      <th>MédiaSemanasDoses</th>\n",
       "      <th>SomaSemanasUsadas</th>\n",
       "      <th>MédiaSemanasUsadas</th>\n",
       "      <th>SomaSemanasDesistência</th>\n",
       "      <th>MédiaSemanasDesistência</th>\n",
       "    </tr>\n",
       "    <tr>\n",
       "      <th>TipoSolo</th>\n",
       "      <th></th>\n",
       "      <th></th>\n",
       "      <th></th>\n",
       "      <th></th>\n",
       "      <th></th>\n",
       "      <th></th>\n",
       "      <th></th>\n",
       "      <th></th>\n",
       "      <th></th>\n",
       "    </tr>\n",
       "  </thead>\n",
       "  <tbody>\n",
       "    <tr>\n",
       "      <th>arenoso</th>\n",
       "      <td>6953</td>\n",
       "      <td>13197627</td>\n",
       "      <td>1898.119804</td>\n",
       "      <td>162980</td>\n",
       "      <td>23.440242</td>\n",
       "      <td>244317.051692</td>\n",
       "      <td>35.138365</td>\n",
       "      <td>51899</td>\n",
       "      <td>7.464260</td>\n",
       "    </tr>\n",
       "    <tr>\n",
       "      <th>argiloso</th>\n",
       "      <td>5354</td>\n",
       "      <td>9436253</td>\n",
       "      <td>1762.467874</td>\n",
       "      <td>134555</td>\n",
       "      <td>25.131677</td>\n",
       "      <td>173933.662927</td>\n",
       "      <td>32.486676</td>\n",
       "      <td>42012</td>\n",
       "      <td>7.846843</td>\n",
       "    </tr>\n",
       "  </tbody>\n",
       "</table>\n",
       "</div>"
      ],
      "text/plain": [
       "          Quantidade  SomaInsetos  MédiaInsetos  SomaSemanasDoses  \\\n",
       "TipoSolo                                                            \n",
       "arenoso         6953     13197627   1898.119804            162980   \n",
       "argiloso        5354      9436253   1762.467874            134555   \n",
       "\n",
       "          MédiaSemanasDoses  SomaSemanasUsadas  MédiaSemanasUsadas  \\\n",
       "TipoSolo                                                             \n",
       "arenoso           23.440242      244317.051692           35.138365   \n",
       "argiloso          25.131677      173933.662927           32.486676   \n",
       "\n",
       "          SomaSemanasDesistência  MédiaSemanasDesistência  \n",
       "TipoSolo                                                   \n",
       "arenoso                    51899                 7.464260  \n",
       "argiloso                   42012                 7.846843  "
      ]
     },
     "execution_count": 200,
     "metadata": {},
     "output_type": "execute_result"
    }
   ],
   "source": [
    "Quantidade = DanificadaPesticidas.groupby([\"TipoSolo\"])[\"ContagemInsetos\"].count().rename('Quantidade')\n",
    "insetos = DanificadaPesticidas.groupby(['TipoSolo'])['ContagemInsetos'].sum().rename('SomaInsetos')\n",
    "insetos_media =DanificadaPesticidas.groupby(['TipoSolo'])['ContagemInsetos'].mean().rename('MédiaInsetos')\n",
    "semanas = DanificadaPesticidas.groupby(['TipoSolo'])['Número_Doses_Semana'].sum().rename('SomaSemanasDoses')\n",
    "semanas_media = DanificadaPesticidas.groupby(['TipoSolo'])['Número_Doses_Semana'].mean().rename('MédiaSemanasDoses') \n",
    "semanas_usadas = DanificadaPesticidas.groupby(['TipoSolo'])['Número_Semanas_Usadas'].sum().rename('SomaSemanasUsadas')\n",
    "semanas_usadas_media = DanificadaPesticidas.groupby(['TipoSolo'])['Número_Semanas_Usadas'].mean().rename('MédiaSemanasUsadas')\n",
    "semanas_desisteicias = DanificadaPesticidas.groupby(['TipoSolo'])['NúmeroS_Semanas_Desistência'].sum().rename('SomaSemanasDesistência')\n",
    "semanas_desisteicias_media = DanificadaPesticidas.groupby(['TipoSolo'])['NúmeroS_Semanas_Desistência'].mean().rename('MédiaSemanasDesistência')\n",
    "# Dataframe para os resultados\n",
    "dados_usuarios = pd.DataFrame({\"Quantidade\":Quantidade,'SomaInsetos':insetos,'MédiaInsetos':insetos_media,'SomaSemanasDoses':semanas,'MédiaSemanasDoses':semanas_media,'SomaSemanasUsadas':semanas_usadas,'MédiaSemanasUsadas':semanas_usadas_media,'SomaSemanasDesistência':semanas_desisteicias,'MédiaSemanasDesistência':semanas_desisteicias_media})\n",
    "\n",
    "dados_usuarios.sort_values(\"Quantidade\", ascending=False).head(5)"
   ]
  },
  {
   "cell_type": "code",
   "execution_count": null,
   "metadata": {},
   "outputs": [],
   "source": []
  },
  {
   "cell_type": "markdown",
   "metadata": {},
   "source": [
    "### DANIFICADA POR OUTROS MOTIVOS"
   ]
  },
  {
   "cell_type": "code",
   "execution_count": 201,
   "metadata": {},
   "outputs": [
    {
     "data": {
      "text/html": [
       "<div>\n",
       "<style scoped>\n",
       "    .dataframe tbody tr th:only-of-type {\n",
       "        vertical-align: middle;\n",
       "    }\n",
       "\n",
       "    .dataframe tbody tr th {\n",
       "        vertical-align: top;\n",
       "    }\n",
       "\n",
       "    .dataframe thead th {\n",
       "        text-align: right;\n",
       "    }\n",
       "</style>\n",
       "<table border=\"1\" class=\"dataframe\">\n",
       "  <thead>\n",
       "    <tr style=\"text-align: right;\">\n",
       "      <th></th>\n",
       "      <th>ContagemInsetos</th>\n",
       "      <th>CategoriaCultivo</th>\n",
       "      <th>TipoSolo</th>\n",
       "      <th>TipoPesticidas</th>\n",
       "      <th>Número_Doses_Semana</th>\n",
       "      <th>Número_Semanas_Usadas</th>\n",
       "      <th>NúmeroS_Semanas_Desistência</th>\n",
       "      <th>TemporadaColheita</th>\n",
       "      <th>Categoria_Dano_Cultivo</th>\n",
       "    </tr>\n",
       "  </thead>\n",
       "  <tbody>\n",
       "    <tr>\n",
       "      <th>7</th>\n",
       "      <td>577</td>\n",
       "      <td>convencional</td>\n",
       "      <td>arenoso</td>\n",
       "      <td>1</td>\n",
       "      <td>0</td>\n",
       "      <td>0.0</td>\n",
       "      <td>0</td>\n",
       "      <td>1</td>\n",
       "      <td>Danificada_Outros_Motivos</td>\n",
       "    </tr>\n",
       "  </tbody>\n",
       "</table>\n",
       "</div>"
      ],
      "text/plain": [
       "   ContagemInsetos CategoriaCultivo TipoSolo  TipoPesticidas  \\\n",
       "7              577     convencional  arenoso               1   \n",
       "\n",
       "   Número_Doses_Semana  Número_Semanas_Usadas  NúmeroS_Semanas_Desistência  \\\n",
       "7                    0                    0.0                            0   \n",
       "\n",
       "   TemporadaColheita     Categoria_Dano_Cultivo  \n",
       "7                  1  Danificada_Outros_Motivos  "
      ]
     },
     "execution_count": 201,
     "metadata": {},
     "output_type": "execute_result"
    }
   ],
   "source": [
    "Danificada_Outros_Motivos = df_traduzida.loc[df_traduzida['Categoria_Dano_Cultivo'] == 'Danificada_Outros_Motivos']\n",
    "Danificada_Outros_Motivos.head(1)"
   ]
  },
  {
   "cell_type": "markdown",
   "metadata": {},
   "source": [
    "### ANALISANDO TEMPORADA, TIPO PESTICIDAS E TIPO DO SOLO DE DANIFICADA POR OUTROS MOTIVOS "
   ]
  },
  {
   "cell_type": "code",
   "execution_count": 202,
   "metadata": {},
   "outputs": [
    {
     "data": {
      "image/png": "[encoded data removed]",
      "text/plain": [
       "<Figure size 1400x800 with 4 Axes>"
      ]
     },
     "metadata": {},
     "output_type": "display_data"
    }
   ],
   "source": [
    "plt.rcParams[\"figure.figsize\"] = [14.00, 8.00]\n",
    "plt.rcParams[\"figure.autolayout\"] = True\n",
    "f, axes = plt.subplots(2, 2)\n",
    "\n",
    "sns.countplot(data = Danificada_Outros_Motivos, x=\"TemporadaColheita\", ax=axes[0][1])\n",
    "sns.countplot(data = Danificada_Outros_Motivos, x=\"TipoPesticidas\", ax=axes[1][0])\n",
    "sns.countplot(data = Danificada_Outros_Motivos, x=\"TipoSolo\", ax=axes[1][1])\n",
    "\n",
    "plt.show()"
   ]
  },
  {
   "cell_type": "markdown",
   "metadata": {},
   "source": [
    "### ANALISANDO INSERTOS, NÚMEROS DE SEMANAS, DESISTENCIA E USADAS DE TIPO DE COLHEITA"
   ]
  },
  {
   "cell_type": "code",
   "execution_count": 203,
   "metadata": {},
   "outputs": [
    {
     "data": {
      "text/html": [
       "<div>\n",
       "<style scoped>\n",
       "    .dataframe tbody tr th:only-of-type {\n",
       "        vertical-align: middle;\n",
       "    }\n",
       "\n",
       "    .dataframe tbody tr th {\n",
       "        vertical-align: top;\n",
       "    }\n",
       "\n",
       "    .dataframe thead th {\n",
       "        text-align: right;\n",
       "    }\n",
       "</style>\n",
       "<table border=\"1\" class=\"dataframe\">\n",
       "  <thead>\n",
       "    <tr style=\"text-align: right;\">\n",
       "      <th></th>\n",
       "      <th>Quantidade</th>\n",
       "      <th>SomaInsetos</th>\n",
       "      <th>MédiaInsetos</th>\n",
       "      <th>SomaSemanasDoses</th>\n",
       "      <th>MédiaSemanasDoses</th>\n",
       "      <th>SomaSemanasUsadas</th>\n",
       "      <th>MédiaSemanasUsadas</th>\n",
       "      <th>SomaSemanasDesistência</th>\n",
       "      <th>MédiaSemanasDesistência</th>\n",
       "    </tr>\n",
       "    <tr>\n",
       "      <th>TemporadaColheita</th>\n",
       "      <th></th>\n",
       "      <th></th>\n",
       "      <th></th>\n",
       "      <th></th>\n",
       "      <th></th>\n",
       "      <th></th>\n",
       "      <th></th>\n",
       "      <th></th>\n",
       "      <th></th>\n",
       "    </tr>\n",
       "  </thead>\n",
       "  <tbody>\n",
       "    <tr>\n",
       "      <th>2</th>\n",
       "      <td>1214</td>\n",
       "      <td>2118628</td>\n",
       "      <td>1745.163097</td>\n",
       "      <td>31930</td>\n",
       "      <td>26.301483</td>\n",
       "      <td>44977.107866</td>\n",
       "      <td>37.048689</td>\n",
       "      <td>3823</td>\n",
       "      <td>3.149094</td>\n",
       "    </tr>\n",
       "    <tr>\n",
       "      <th>1</th>\n",
       "      <td>661</td>\n",
       "      <td>1145919</td>\n",
       "      <td>1733.614221</td>\n",
       "      <td>16960</td>\n",
       "      <td>25.658094</td>\n",
       "      <td>24372.293634</td>\n",
       "      <td>36.871851</td>\n",
       "      <td>2242</td>\n",
       "      <td>3.391831</td>\n",
       "    </tr>\n",
       "    <tr>\n",
       "      <th>3</th>\n",
       "      <td>438</td>\n",
       "      <td>739515</td>\n",
       "      <td>1688.390411</td>\n",
       "      <td>11510</td>\n",
       "      <td>26.278539</td>\n",
       "      <td>15934.958802</td>\n",
       "      <td>36.381184</td>\n",
       "      <td>1577</td>\n",
       "      <td>3.600457</td>\n",
       "    </tr>\n",
       "  </tbody>\n",
       "</table>\n",
       "</div>"
      ],
      "text/plain": [
       "                   Quantidade  SomaInsetos  MédiaInsetos  SomaSemanasDoses  \\\n",
       "TemporadaColheita                                                            \n",
       "2                        1214      2118628   1745.163097             31930   \n",
       "1                         661      1145919   1733.614221             16960   \n",
       "3                         438       739515   1688.390411             11510   \n",
       "\n",
       "                   MédiaSemanasDoses  SomaSemanasUsadas  MédiaSemanasUsadas  \\\n",
       "TemporadaColheita                                                             \n",
       "2                          26.301483       44977.107866           37.048689   \n",
       "1                          25.658094       24372.293634           36.871851   \n",
       "3                          26.278539       15934.958802           36.381184   \n",
       "\n",
       "                   SomaSemanasDesistência  MédiaSemanasDesistência  \n",
       "TemporadaColheita                                                   \n",
       "2                                    3823                 3.149094  \n",
       "1                                    2242                 3.391831  \n",
       "3                                    1577                 3.600457  "
      ]
     },
     "execution_count": 203,
     "metadata": {},
     "output_type": "execute_result"
    }
   ],
   "source": [
    "Quantidade = Danificada_Outros_Motivos.groupby([\"TemporadaColheita\"])[\"ContagemInsetos\"].count().rename('Quantidade')\n",
    "insetos = Danificada_Outros_Motivos.groupby(['TemporadaColheita'])['ContagemInsetos'].sum().rename('SomaInsetos')\n",
    "insetos_media =Danificada_Outros_Motivos.groupby(['TemporadaColheita'])['ContagemInsetos'].mean().rename('MédiaInsetos')\n",
    "semanas = Danificada_Outros_Motivos.groupby(['TemporadaColheita'])['Número_Doses_Semana'].sum().rename('SomaSemanasDoses')\n",
    "semanas_media = Danificada_Outros_Motivos.groupby(['TemporadaColheita'])['Número_Doses_Semana'].mean().rename('MédiaSemanasDoses') \n",
    "semanas_usadas = Danificada_Outros_Motivos.groupby(['TemporadaColheita'])['Número_Semanas_Usadas'].sum().rename('SomaSemanasUsadas')\n",
    "semanas_usadas_media = Danificada_Outros_Motivos.groupby(['TemporadaColheita'])['Número_Semanas_Usadas'].mean().rename('MédiaSemanasUsadas')\n",
    "semanas_desisteicias = Danificada_Outros_Motivos.groupby(['TemporadaColheita'])['NúmeroS_Semanas_Desistência'].sum().rename('SomaSemanasDesistência')\n",
    "semanas_desisteicias_media = Danificada_Outros_Motivos.groupby(['TemporadaColheita'])['NúmeroS_Semanas_Desistência'].mean().rename('MédiaSemanasDesistência')\n",
    "# Dataframe para os resultados\n",
    "dados_usuarios = pd.DataFrame({\"Quantidade\":Quantidade,'SomaInsetos':insetos,'MédiaInsetos':insetos_media,'SomaSemanasDoses':semanas,'MédiaSemanasDoses':semanas_media,'SomaSemanasUsadas':semanas_usadas,'MédiaSemanasUsadas':semanas_usadas_media,'SomaSemanasDesistência':semanas_desisteicias,'MédiaSemanasDesistência':semanas_desisteicias_media})\n",
    "\n",
    "dados_usuarios.sort_values(\"Quantidade\", ascending=False).head(5)"
   ]
  },
  {
   "cell_type": "markdown",
   "metadata": {},
   "source": [
    "### ANALISANDO INSERTOS, NÚMEROS DE SEMANAS, DESISTENCIA E USADAS DE CATEGORIA CULTIVO"
   ]
  },
  {
   "cell_type": "code",
   "execution_count": 204,
   "metadata": {},
   "outputs": [
    {
     "data": {
      "text/html": [
       "<div>\n",
       "<style scoped>\n",
       "    .dataframe tbody tr th:only-of-type {\n",
       "        vertical-align: middle;\n",
       "    }\n",
       "\n",
       "    .dataframe tbody tr th {\n",
       "        vertical-align: top;\n",
       "    }\n",
       "\n",
       "    .dataframe thead th {\n",
       "        text-align: right;\n",
       "    }\n",
       "</style>\n",
       "<table border=\"1\" class=\"dataframe\">\n",
       "  <thead>\n",
       "    <tr style=\"text-align: right;\">\n",
       "      <th></th>\n",
       "      <th>Quantidade</th>\n",
       "      <th>SomaInsetos</th>\n",
       "      <th>MédiaInsetos</th>\n",
       "      <th>SomaSemanasDoses</th>\n",
       "      <th>MédiaSemanasDoses</th>\n",
       "      <th>SomaSemanasUsadas</th>\n",
       "      <th>MédiaSemanasUsadas</th>\n",
       "      <th>SomaSemanasDesistência</th>\n",
       "      <th>MédiaSemanasDesistência</th>\n",
       "    </tr>\n",
       "    <tr>\n",
       "      <th>CategoriaCultivo</th>\n",
       "      <th></th>\n",
       "      <th></th>\n",
       "      <th></th>\n",
       "      <th></th>\n",
       "      <th></th>\n",
       "      <th></th>\n",
       "      <th></th>\n",
       "      <th></th>\n",
       "      <th></th>\n",
       "    </tr>\n",
       "  </thead>\n",
       "  <tbody>\n",
       "    <tr>\n",
       "      <th>transgênica</th>\n",
       "      <td>1607</td>\n",
       "      <td>2909573</td>\n",
       "      <td>1810.561917</td>\n",
       "      <td>45465</td>\n",
       "      <td>28.291848</td>\n",
       "      <td>62542.579028</td>\n",
       "      <td>38.918842</td>\n",
       "      <td>7057</td>\n",
       "      <td>4.391413</td>\n",
       "    </tr>\n",
       "    <tr>\n",
       "      <th>convencional</th>\n",
       "      <td>706</td>\n",
       "      <td>1094489</td>\n",
       "      <td>1550.267705</td>\n",
       "      <td>14935</td>\n",
       "      <td>21.154391</td>\n",
       "      <td>22741.781274</td>\n",
       "      <td>32.212155</td>\n",
       "      <td>585</td>\n",
       "      <td>0.828612</td>\n",
       "    </tr>\n",
       "  </tbody>\n",
       "</table>\n",
       "</div>"
      ],
      "text/plain": [
       "                  Quantidade  SomaInsetos  MédiaInsetos  SomaSemanasDoses  \\\n",
       "CategoriaCultivo                                                            \n",
       "transgênica             1607      2909573   1810.561917             45465   \n",
       "convencional             706      1094489   1550.267705             14935   \n",
       "\n",
       "                  MédiaSemanasDoses  SomaSemanasUsadas  MédiaSemanasUsadas  \\\n",
       "CategoriaCultivo                                                             \n",
       "transgênica               28.291848       62542.579028           38.918842   \n",
       "convencional              21.154391       22741.781274           32.212155   \n",
       "\n",
       "                  SomaSemanasDesistência  MédiaSemanasDesistência  \n",
       "CategoriaCultivo                                                   \n",
       "transgênica                         7057                 4.391413  \n",
       "convencional                         585                 0.828612  "
      ]
     },
     "execution_count": 204,
     "metadata": {},
     "output_type": "execute_result"
    }
   ],
   "source": [
    "Quantidade = Danificada_Outros_Motivos.groupby([\"CategoriaCultivo\"])[\"ContagemInsetos\"].count().rename('Quantidade')\n",
    "insetos = Danificada_Outros_Motivos.groupby(['CategoriaCultivo'])['ContagemInsetos'].sum().rename('SomaInsetos')\n",
    "insetos_media =Danificada_Outros_Motivos.groupby(['CategoriaCultivo'])['ContagemInsetos'].mean().rename('MédiaInsetos')\n",
    "semanas = Danificada_Outros_Motivos.groupby(['CategoriaCultivo'])['Número_Doses_Semana'].sum().rename('SomaSemanasDoses')\n",
    "semanas_media = Danificada_Outros_Motivos.groupby(['CategoriaCultivo'])['Número_Doses_Semana'].mean().rename('MédiaSemanasDoses') \n",
    "semanas_usadas = Danificada_Outros_Motivos.groupby(['CategoriaCultivo'])['Número_Semanas_Usadas'].sum().rename('SomaSemanasUsadas')\n",
    "semanas_usadas_media = Danificada_Outros_Motivos.groupby(['CategoriaCultivo'])['Número_Semanas_Usadas'].mean().rename('MédiaSemanasUsadas')\n",
    "semanas_desisteicias = Danificada_Outros_Motivos.groupby(['CategoriaCultivo'])['NúmeroS_Semanas_Desistência'].sum().rename('SomaSemanasDesistência')\n",
    "semanas_desisteicias_media = Danificada_Outros_Motivos.groupby(['CategoriaCultivo'])['NúmeroS_Semanas_Desistência'].mean().rename('MédiaSemanasDesistência')\n",
    "# Dataframe para os resultados\n",
    "dados_usuarios = pd.DataFrame({\"Quantidade\":Quantidade,'SomaInsetos':insetos,'MédiaInsetos':insetos_media,'SomaSemanasDoses':semanas,'MédiaSemanasDoses':semanas_media,'SomaSemanasUsadas':semanas_usadas,'MédiaSemanasUsadas':semanas_usadas_media,'SomaSemanasDesistência':semanas_desisteicias,'MédiaSemanasDesistência':semanas_desisteicias_media})\n",
    "\n",
    "dados_usuarios.sort_values(\"Quantidade\", ascending=False).head(5)"
   ]
  },
  {
   "cell_type": "markdown",
   "metadata": {},
   "source": [
    "### ANALISANDO INSERTOS, NÚMEROS DE SEMANAS, DESISTENCIA E USADAS DE TIPO SOLO"
   ]
  },
  {
   "cell_type": "code",
   "execution_count": 205,
   "metadata": {},
   "outputs": [
    {
     "data": {
      "text/html": [
       "<div>\n",
       "<style scoped>\n",
       "    .dataframe tbody tr th:only-of-type {\n",
       "        vertical-align: middle;\n",
       "    }\n",
       "\n",
       "    .dataframe tbody tr th {\n",
       "        vertical-align: top;\n",
       "    }\n",
       "\n",
       "    .dataframe thead th {\n",
       "        text-align: right;\n",
       "    }\n",
       "</style>\n",
       "<table border=\"1\" class=\"dataframe\">\n",
       "  <thead>\n",
       "    <tr style=\"text-align: right;\">\n",
       "      <th></th>\n",
       "      <th>Quantidade</th>\n",
       "      <th>SomaInsetos</th>\n",
       "      <th>MédiaInsetos</th>\n",
       "      <th>SomaSemanasDoses</th>\n",
       "      <th>MédiaSemanasDoses</th>\n",
       "      <th>SomaSemanasUsadas</th>\n",
       "      <th>MédiaSemanasUsadas</th>\n",
       "      <th>SomaSemanasDesistência</th>\n",
       "      <th>MédiaSemanasDesistência</th>\n",
       "    </tr>\n",
       "    <tr>\n",
       "      <th>TipoSolo</th>\n",
       "      <th></th>\n",
       "      <th></th>\n",
       "      <th></th>\n",
       "      <th></th>\n",
       "      <th></th>\n",
       "      <th></th>\n",
       "      <th></th>\n",
       "      <th></th>\n",
       "      <th></th>\n",
       "    </tr>\n",
       "  </thead>\n",
       "  <tbody>\n",
       "    <tr>\n",
       "      <th>arenoso</th>\n",
       "      <td>1330</td>\n",
       "      <td>2394901</td>\n",
       "      <td>1800.677444</td>\n",
       "      <td>34290</td>\n",
       "      <td>25.781955</td>\n",
       "      <td>50912.099627</td>\n",
       "      <td>38.279774</td>\n",
       "      <td>4134</td>\n",
       "      <td>3.108271</td>\n",
       "    </tr>\n",
       "    <tr>\n",
       "      <th>argiloso</th>\n",
       "      <td>983</td>\n",
       "      <td>1609161</td>\n",
       "      <td>1636.989827</td>\n",
       "      <td>26110</td>\n",
       "      <td>26.561546</td>\n",
       "      <td>34372.260675</td>\n",
       "      <td>34.966694</td>\n",
       "      <td>3508</td>\n",
       "      <td>3.568667</td>\n",
       "    </tr>\n",
       "  </tbody>\n",
       "</table>\n",
       "</div>"
      ],
      "text/plain": [
       "          Quantidade  SomaInsetos  MédiaInsetos  SomaSemanasDoses  \\\n",
       "TipoSolo                                                            \n",
       "arenoso         1330      2394901   1800.677444             34290   \n",
       "argiloso         983      1609161   1636.989827             26110   \n",
       "\n",
       "          MédiaSemanasDoses  SomaSemanasUsadas  MédiaSemanasUsadas  \\\n",
       "TipoSolo                                                             \n",
       "arenoso           25.781955       50912.099627           38.279774   \n",
       "argiloso          26.561546       34372.260675           34.966694   \n",
       "\n",
       "          SomaSemanasDesistência  MédiaSemanasDesistência  \n",
       "TipoSolo                                                   \n",
       "arenoso                     4134                 3.108271  \n",
       "argiloso                    3508                 3.568667  "
      ]
     },
     "execution_count": 205,
     "metadata": {},
     "output_type": "execute_result"
    }
   ],
   "source": [
    "Quantidade = Danificada_Outros_Motivos.groupby([\"TipoSolo\"])[\"ContagemInsetos\"].count().rename('Quantidade')\n",
    "insetos = Danificada_Outros_Motivos.groupby(['TipoSolo'])['ContagemInsetos'].sum().rename('SomaInsetos')\n",
    "insetos_media =Danificada_Outros_Motivos.groupby(['TipoSolo'])['ContagemInsetos'].mean().rename('MédiaInsetos')\n",
    "semanas = Danificada_Outros_Motivos.groupby(['TipoSolo'])['Número_Doses_Semana'].sum().rename('SomaSemanasDoses')\n",
    "semanas_media = Danificada_Outros_Motivos.groupby(['TipoSolo'])['Número_Doses_Semana'].mean().rename('MédiaSemanasDoses') \n",
    "semanas_usadas = Danificada_Outros_Motivos.groupby(['TipoSolo'])['Número_Semanas_Usadas'].sum().rename('SomaSemanasUsadas')\n",
    "semanas_usadas_media = Danificada_Outros_Motivos.groupby(['TipoSolo'])['Número_Semanas_Usadas'].mean().rename('MédiaSemanasUsadas')\n",
    "semanas_desisteicias = Danificada_Outros_Motivos.groupby(['TipoSolo'])['NúmeroS_Semanas_Desistência'].sum().rename('SomaSemanasDesistência')\n",
    "semanas_desisteicias_media = Danificada_Outros_Motivos.groupby(['TipoSolo'])['NúmeroS_Semanas_Desistência'].mean().rename('MédiaSemanasDesistência')\n",
    "# Dataframe para os resultados\n",
    "dados_usuarios = pd.DataFrame({\"Quantidade\":Quantidade,'SomaInsetos':insetos,'MédiaInsetos':insetos_media,'SomaSemanasDoses':semanas,'MédiaSemanasDoses':semanas_media,'SomaSemanasUsadas':semanas_usadas,'MédiaSemanasUsadas':semanas_usadas_media,'SomaSemanasDesistência':semanas_desisteicias,'MédiaSemanasDesistência':semanas_desisteicias_media})\n",
    "\n",
    "dados_usuarios.sort_values(\"Quantidade\", ascending=False).head(5)"
   ]
  },
  {
   "cell_type": "markdown",
   "metadata": {},
   "source": [
    "# MACHINE LEARNING"
   ]
  },
  {
   "cell_type": "markdown",
   "metadata": {},
   "source": [
    "## PRÉ-PROCESSAMENTO"
   ]
  },
  {
   "cell_type": "code",
   "execution_count": 206,
   "metadata": {},
   "outputs": [
    {
     "data": {
      "text/html": [
       "<div>\n",
       "<style scoped>\n",
       "    .dataframe tbody tr th:only-of-type {\n",
       "        vertical-align: middle;\n",
       "    }\n",
       "\n",
       "    .dataframe tbody tr th {\n",
       "        vertical-align: top;\n",
       "    }\n",
       "\n",
       "    .dataframe thead th {\n",
       "        text-align: right;\n",
       "    }\n",
       "</style>\n",
       "<table border=\"1\" class=\"dataframe\">\n",
       "  <thead>\n",
       "    <tr style=\"text-align: right;\">\n",
       "      <th></th>\n",
       "      <th>ContagemInsetos</th>\n",
       "      <th>CategoriaCultivo</th>\n",
       "      <th>TipoSolo</th>\n",
       "      <th>TipoPesticidas</th>\n",
       "      <th>Número_Doses_Semana</th>\n",
       "      <th>Número_Semanas_Usadas</th>\n",
       "      <th>NúmeroS_Semanas_Desistência</th>\n",
       "      <th>TemporadaColheita</th>\n",
       "      <th>Categoria_Dano_Cultivo</th>\n",
       "    </tr>\n",
       "  </thead>\n",
       "  <tbody>\n",
       "    <tr>\n",
       "      <th>0</th>\n",
       "      <td>188</td>\n",
       "      <td>convencional</td>\n",
       "      <td>arenoso</td>\n",
       "      <td>1</td>\n",
       "      <td>0</td>\n",
       "      <td>0.0</td>\n",
       "      <td>0</td>\n",
       "      <td>1</td>\n",
       "      <td>Saudável</td>\n",
       "    </tr>\n",
       "    <tr>\n",
       "      <th>1</th>\n",
       "      <td>209</td>\n",
       "      <td>convencional</td>\n",
       "      <td>arenoso</td>\n",
       "      <td>1</td>\n",
       "      <td>0</td>\n",
       "      <td>0.0</td>\n",
       "      <td>0</td>\n",
       "      <td>2</td>\n",
       "      <td>DanificadaPesticidas</td>\n",
       "    </tr>\n",
       "    <tr>\n",
       "      <th>2</th>\n",
       "      <td>257</td>\n",
       "      <td>convencional</td>\n",
       "      <td>arenoso</td>\n",
       "      <td>1</td>\n",
       "      <td>0</td>\n",
       "      <td>0.0</td>\n",
       "      <td>0</td>\n",
       "      <td>2</td>\n",
       "      <td>DanificadaPesticidas</td>\n",
       "    </tr>\n",
       "    <tr>\n",
       "      <th>3</th>\n",
       "      <td>257</td>\n",
       "      <td>convencional</td>\n",
       "      <td>argiloso</td>\n",
       "      <td>1</td>\n",
       "      <td>0</td>\n",
       "      <td>0.0</td>\n",
       "      <td>0</td>\n",
       "      <td>2</td>\n",
       "      <td>DanificadaPesticidas</td>\n",
       "    </tr>\n",
       "    <tr>\n",
       "      <th>4</th>\n",
       "      <td>342</td>\n",
       "      <td>convencional</td>\n",
       "      <td>arenoso</td>\n",
       "      <td>1</td>\n",
       "      <td>0</td>\n",
       "      <td>0.0</td>\n",
       "      <td>0</td>\n",
       "      <td>2</td>\n",
       "      <td>DanificadaPesticidas</td>\n",
       "    </tr>\n",
       "  </tbody>\n",
       "</table>\n",
       "</div>"
      ],
      "text/plain": [
       "   ContagemInsetos CategoriaCultivo  TipoSolo  TipoPesticidas  \\\n",
       "0              188     convencional   arenoso               1   \n",
       "1              209     convencional   arenoso               1   \n",
       "2              257     convencional   arenoso               1   \n",
       "3              257     convencional  argiloso               1   \n",
       "4              342     convencional   arenoso               1   \n",
       "\n",
       "   Número_Doses_Semana  Número_Semanas_Usadas  NúmeroS_Semanas_Desistência  \\\n",
       "0                    0                    0.0                            0   \n",
       "1                    0                    0.0                            0   \n",
       "2                    0                    0.0                            0   \n",
       "3                    0                    0.0                            0   \n",
       "4                    0                    0.0                            0   \n",
       "\n",
       "   TemporadaColheita Categoria_Dano_Cultivo  \n",
       "0                  1               Saudável  \n",
       "1                  2   DanificadaPesticidas  \n",
       "2                  2   DanificadaPesticidas  \n",
       "3                  2   DanificadaPesticidas  \n",
       "4                  2   DanificadaPesticidas  "
      ]
     },
     "execution_count": 206,
     "metadata": {},
     "output_type": "execute_result"
    }
   ],
   "source": [
    "df_traduzida.head()"
   ]
  },
  {
   "cell_type": "markdown",
   "metadata": {},
   "source": [
    "## ENCODER"
   ]
  },
  {
   "cell_type": "code",
   "execution_count": 207,
   "metadata": {},
   "outputs": [],
   "source": [
    "# Cria o encoder\n",
    "lb = LabelEncoder()\n",
    "\n",
    "# Aplica o encoder nas variáveis que estão com string\n",
    "df_traduzida['CategoriaCultivo'] = lb.fit_transform(df_traduzida['CategoriaCultivo'])\n",
    "df_traduzida['TipoSolo'] = lb.fit_transform(df_traduzida['TipoSolo'])\n",
    "df_traduzida['Categoria_Dano_Cultivo'] = lb.fit_transform(df_traduzida['Categoria_Dano_Cultivo'])\n",
    "# Remove valores missing eventualmente gerados\n",
    "df_traduzida.dropna(inplace = True)"
   ]
  },
  {
   "cell_type": "markdown",
   "metadata": {},
   "source": [
    "### Separa X e y"
   ]
  },
  {
   "cell_type": "code",
   "execution_count": 208,
   "metadata": {},
   "outputs": [],
   "source": [
    "\n",
    "X = df_traduzida.iloc[:, :-1]\n",
    "y = df_traduzida.iloc[:, -1]"
   ]
  },
  {
   "cell_type": "code",
   "execution_count": 209,
   "metadata": {},
   "outputs": [
    {
     "data": {
      "text/html": [
       "<div>\n",
       "<style scoped>\n",
       "    .dataframe tbody tr th:only-of-type {\n",
       "        vertical-align: middle;\n",
       "    }\n",
       "\n",
       "    .dataframe tbody tr th {\n",
       "        vertical-align: top;\n",
       "    }\n",
       "\n",
       "    .dataframe thead th {\n",
       "        text-align: right;\n",
       "    }\n",
       "</style>\n",
       "<table border=\"1\" class=\"dataframe\">\n",
       "  <thead>\n",
       "    <tr style=\"text-align: right;\">\n",
       "      <th></th>\n",
       "      <th>ContagemInsetos</th>\n",
       "      <th>CategoriaCultivo</th>\n",
       "      <th>TipoSolo</th>\n",
       "      <th>TipoPesticidas</th>\n",
       "      <th>Número_Doses_Semana</th>\n",
       "      <th>Número_Semanas_Usadas</th>\n",
       "      <th>NúmeroS_Semanas_Desistência</th>\n",
       "      <th>TemporadaColheita</th>\n",
       "    </tr>\n",
       "  </thead>\n",
       "  <tbody>\n",
       "    <tr>\n",
       "      <th>0</th>\n",
       "      <td>188</td>\n",
       "      <td>0</td>\n",
       "      <td>0</td>\n",
       "      <td>1</td>\n",
       "      <td>0</td>\n",
       "      <td>0.0</td>\n",
       "      <td>0</td>\n",
       "      <td>1</td>\n",
       "    </tr>\n",
       "  </tbody>\n",
       "</table>\n",
       "</div>"
      ],
      "text/plain": [
       "   ContagemInsetos  CategoriaCultivo  TipoSolo  TipoPesticidas  \\\n",
       "0              188                 0         0               1   \n",
       "\n",
       "   Número_Doses_Semana  Número_Semanas_Usadas  NúmeroS_Semanas_Desistência  \\\n",
       "0                    0                    0.0                            0   \n",
       "\n",
       "   TemporadaColheita  \n",
       "0                  1  "
      ]
     },
     "execution_count": 209,
     "metadata": {},
     "output_type": "execute_result"
    }
   ],
   "source": [
    "\n",
    "X.head(1)"
   ]
  },
  {
   "cell_type": "code",
   "execution_count": 210,
   "metadata": {},
   "outputs": [
    {
     "data": {
      "text/plain": [
       "0    2\n",
       "1    0\n",
       "2    0\n",
       "3    0\n",
       "4    0\n",
       "Name: Categoria_Dano_Cultivo, dtype: int32"
      ]
     },
     "execution_count": 210,
     "metadata": {},
     "output_type": "execute_result"
    }
   ],
   "source": [
    "y.head()"
   ]
  },
  {
   "cell_type": "code",
   "execution_count": 216,
   "metadata": {},
   "outputs": [
    {
     "name": "stdout",
     "output_type": "stream",
     "text": [
      "Contagem de classes antes do balanceamento:\n",
      "Categoria_Dano_Cultivo\n",
      "2    74238\n",
      "0    12307\n",
      "1     2313\n",
      "Name: count, dtype: int64\n",
      "\n",
      "Contagem de classes após o balanceamento:\n",
      "Categoria_Dano_Cultivo\n",
      "2    74238\n",
      "0    74238\n",
      "1    74238\n",
      "Name: count, dtype: int64\n"
     ]
    },
    {
     "data": {
      "image/png": "[encoded data removed]",
      "text/plain": [
       "<Figure size 1200x500 with 1 Axes>"
      ]
     },
     "metadata": {},
     "output_type": "display_data"
    }
   ],
   "source": [
    "# Seed para reproduzir o mesmo resultado\n",
    "seed = 100\n",
    "# Cria o balanceador SMOTE\n",
    "smote_bal = SMOTE(random_state=seed)\n",
    "\n",
    "# Verifica a contagem de classes antes do balanceamento\n",
    "print(\"Contagem de classes antes do balanceamento:\")\n",
    "print(y.value_counts())\n",
    "\n",
    "# Aplica o balanceador\n",
    "X_res, y_res = smote_bal.fit_resample(X, y)\n",
    "\n",
    "# Verifica a contagem de classes após o balanceamento\n",
    "print(\"\\nContagem de classes após o balanceamento:\")\n",
    "print(pd.Series(y_res).value_counts())\n",
    "\n",
    "\n",
    "# Visualizando o balanceamento da variável TARGET\n",
    "plt.rcParams[\"figure.figsize\"] = [12.00, 5.00]\n",
    "plt.rcParams[\"figure.autolayout\"] = True\n",
    "y_res.value_counts().plot(kind='bar', title='Saudavél x Danificada Pesticidas x Danificada Por Outros Motivos',color = ['#1F77B4', '#FF7F0E','#1f8db5']);"
   ]
  },
  {
   "cell_type": "code",
   "execution_count": 217,
   "metadata": {},
   "outputs": [
    {
     "data": {
      "text/plain": [
       "(88858, 8)"
      ]
     },
     "execution_count": 217,
     "metadata": {},
     "output_type": "execute_result"
    }
   ],
   "source": [
    "X.shape"
   ]
  },
  {
   "cell_type": "code",
   "execution_count": 218,
   "metadata": {},
   "outputs": [
    {
     "data": {
      "text/plain": [
       "(222714, 8)"
      ]
     },
     "execution_count": 218,
     "metadata": {},
     "output_type": "execute_result"
    }
   ],
   "source": [
    "X_res.shape"
   ]
  },
  {
   "cell_type": "code",
   "execution_count": 219,
   "metadata": {},
   "outputs": [
    {
     "data": {
      "text/plain": [
       "(88858,)"
      ]
     },
     "execution_count": 219,
     "metadata": {},
     "output_type": "execute_result"
    }
   ],
   "source": [
    "y.shape"
   ]
  },
  {
   "cell_type": "code",
   "execution_count": 220,
   "metadata": {},
   "outputs": [
    {
     "data": {
      "text/plain": [
       "(222714,)"
      ]
     },
     "execution_count": 220,
     "metadata": {},
     "output_type": "execute_result"
    }
   ],
   "source": [
    "y_res.shape"
   ]
  },
  {
   "cell_type": "markdown",
   "metadata": {},
   "source": [
    "### VARIAVEIS MAIS IMPORTANTES"
   ]
  },
  {
   "cell_type": "code",
   "execution_count": 221,
   "metadata": {},
   "outputs": [
    {
     "data": {
      "text/html": [
       "<style>#sk-container-id-1 {color: black;}#sk-container-id-1 pre{padding: 0;}#sk-container-id-1 div.sk-toggleable {background-color: white;}#sk-container-id-1 label.sk-toggleable__label {cursor: pointer;display: block;width: 100%;margin-bottom: 0;padding: 0.3em;box-sizing: border-box;text-align: center;}#sk-container-id-1 label.sk-toggleable__label-arrow:before {content: \"▸\";float: left;margin-right: 0.25em;color: #696969;}#sk-container-id-1 label.sk-toggleable__label-arrow:hover:before {color: black;}#sk-container-id-1 div.sk-estimator:hover label.sk-toggleable__label-arrow:before {color: black;}#sk-container-id-1 div.sk-toggleable__content {max-height: 0;max-width: 0;overflow: hidden;text-align: left;background-color: #f0f8ff;}#sk-container-id-1 div.sk-toggleable__content pre {margin: 0.2em;color: black;border-radius: 0.25em;background-color: #f0f8ff;}#sk-container-id-1 input.sk-toggleable__control:checked~div.sk-toggleable__content {max-height: 200px;max-width: 100%;overflow: auto;}#sk-container-id-1 input.sk-toggleable__control:checked~label.sk-toggleable__label-arrow:before {content: \"▾\";}#sk-container-id-1 div.sk-estimator input.sk-toggleable__control:checked~label.sk-toggleable__label {background-color: #d4ebff;}#sk-container-id-1 div.sk-label input.sk-toggleable__control:checked~label.sk-toggleable__label {background-color: #d4ebff;}#sk-container-id-1 input.sk-hidden--visually {border: 0;clip: rect(1px 1px 1px 1px);clip: rect(1px, 1px, 1px, 1px);height: 1px;margin: -1px;overflow: hidden;padding: 0;position: absolute;width: 1px;}#sk-container-id-1 div.sk-estimator {font-family: monospace;background-color: #f0f8ff;border: 1px dotted black;border-radius: 0.25em;box-sizing: border-box;margin-bottom: 0.5em;}#sk-container-id-1 div.sk-estimator:hover {background-color: #d4ebff;}#sk-container-id-1 div.sk-parallel-item::after {content: \"\";width: 100%;border-bottom: 1px solid gray;flex-grow: 1;}#sk-container-id-1 div.sk-label:hover label.sk-toggleable__label {background-color: #d4ebff;}#sk-container-id-1 div.sk-serial::before {content: \"\";position: absolute;border-left: 1px solid gray;box-sizing: border-box;top: 0;bottom: 0;left: 50%;z-index: 0;}#sk-container-id-1 div.sk-serial {display: flex;flex-direction: column;align-items: center;background-color: white;padding-right: 0.2em;padding-left: 0.2em;position: relative;}#sk-container-id-1 div.sk-item {position: relative;z-index: 1;}#sk-container-id-1 div.sk-parallel {display: flex;align-items: stretch;justify-content: center;background-color: white;position: relative;}#sk-container-id-1 div.sk-item::before, #sk-container-id-1 div.sk-parallel-item::before {content: \"\";position: absolute;border-left: 1px solid gray;box-sizing: border-box;top: 0;bottom: 0;left: 50%;z-index: -1;}#sk-container-id-1 div.sk-parallel-item {display: flex;flex-direction: column;z-index: 1;position: relative;background-color: white;}#sk-container-id-1 div.sk-parallel-item:first-child::after {align-self: flex-end;width: 50%;}#sk-container-id-1 div.sk-parallel-item:last-child::after {align-self: flex-start;width: 50%;}#sk-container-id-1 div.sk-parallel-item:only-child::after {width: 0;}#sk-container-id-1 div.sk-dashed-wrapped {border: 1px dashed gray;margin: 0 0.4em 0.5em 0.4em;box-sizing: border-box;padding-bottom: 0.4em;background-color: white;}#sk-container-id-1 div.sk-label label {font-family: monospace;font-weight: bold;display: inline-block;line-height: 1.2em;}#sk-container-id-1 div.sk-label-container {text-align: center;}#sk-container-id-1 div.sk-container {/* jupyter's `normalize.less` sets `[hidden] { display: none; }` but bootstrap.min.css set `[hidden] { display: none !important; }` so we also need the `!important` here to be able to override the default hidden behavior on the sphinx rendered scikit-learn.org. See: https://github.com/scikit-learn/scikit-learn/issues/21755 */display: inline-block !important;position: relative;}#sk-container-id-1 div.sk-text-repr-fallback {display: none;}</style><div id=\"sk-container-id-1\" class=\"sk-top-container\"><div class=\"sk-text-repr-fallback\"><pre>ExtraTreesClassifier()</pre><b>In a Jupyter environment, please rerun this cell to show the HTML representation or trust the notebook. <br />On GitHub, the HTML representation is unable to render, please try loading this page with nbviewer.org.</b></div><div class=\"sk-container\" hidden><div class=\"sk-item\"><div class=\"sk-estimator sk-toggleable\"><input class=\"sk-toggleable__control sk-hidden--visually\" id=\"sk-estimator-id-1\" type=\"checkbox\" checked><label for=\"sk-estimator-id-1\" class=\"sk-toggleable__label sk-toggleable__label-arrow\">ExtraTreesClassifier</label><div class=\"sk-toggleable__content\"><pre>ExtraTreesClassifier()</pre></div></div></div></div></div>"
      ],
      "text/plain": [
       "ExtraTreesClassifier()"
      ]
     },
     "execution_count": 221,
     "metadata": {},
     "output_type": "execute_result"
    }
   ],
   "source": [
    "from sklearn.ensemble import ExtraTreesClassifier\n",
    "\n",
    "# Criação do Modelo - Feature Selection\n",
    "modelo = ExtraTreesClassifier()\n",
    "modelo.fit(X, y)"
   ]
  },
  {
   "cell_type": "code",
   "execution_count": 222,
   "metadata": {},
   "outputs": [
    {
     "name": "stdout",
     "output_type": "stream",
     "text": [
      "Index(['ContagemInsetos', 'CategoriaCultivo', 'TipoSolo', 'TipoPesticidas',\n",
      "       'Número_Doses_Semana', 'Número_Semanas_Usadas',\n",
      "       'NúmeroS_Semanas_Desistência', 'TemporadaColheita',\n",
      "       'Categoria_Dano_Cultivo'],\n",
      "      dtype='object')\n",
      "[0.30767238 0.00900034 0.00858112 0.05752603 0.15761256 0.29502539\n",
      " 0.13376351 0.03081866]\n"
     ]
    }
   ],
   "source": [
    "# Print dos Resultados\n",
    "print(df_traduzida.columns[0:12])\n",
    "print(modelo.feature_importances_)"
   ]
  },
  {
   "cell_type": "code",
   "execution_count": 223,
   "metadata": {},
   "outputs": [],
   "source": [
    "# SEPRANDO AS VARIAVEIS PARA TREINAMENTO\n",
    "\n",
    "# Train Test Split:\n",
    "from sklearn.model_selection import train_test_split\n",
    "X_train, X_test, y_train, y_test = train_test_split(X_res,y_res, test_size=0.3, random_state=42)"
   ]
  },
  {
   "cell_type": "code",
   "execution_count": 224,
   "metadata": {},
   "outputs": [
    {
     "data": {
      "text/html": [
       "<style>#sk-container-id-2 {color: black;}#sk-container-id-2 pre{padding: 0;}#sk-container-id-2 div.sk-toggleable {background-color: white;}#sk-container-id-2 label.sk-toggleable__label {cursor: pointer;display: block;width: 100%;margin-bottom: 0;padding: 0.3em;box-sizing: border-box;text-align: center;}#sk-container-id-2 label.sk-toggleable__label-arrow:before {content: \"▸\";float: left;margin-right: 0.25em;color: #696969;}#sk-container-id-2 label.sk-toggleable__label-arrow:hover:before {color: black;}#sk-container-id-2 div.sk-estimator:hover label.sk-toggleable__label-arrow:before {color: black;}#sk-container-id-2 div.sk-toggleable__content {max-height: 0;max-width: 0;overflow: hidden;text-align: left;background-color: #f0f8ff;}#sk-container-id-2 div.sk-toggleable__content pre {margin: 0.2em;color: black;border-radius: 0.25em;background-color: #f0f8ff;}#sk-container-id-2 input.sk-toggleable__control:checked~div.sk-toggleable__content {max-height: 200px;max-width: 100%;overflow: auto;}#sk-container-id-2 input.sk-toggleable__control:checked~label.sk-toggleable__label-arrow:before {content: \"▾\";}#sk-container-id-2 div.sk-estimator input.sk-toggleable__control:checked~label.sk-toggleable__label {background-color: #d4ebff;}#sk-container-id-2 div.sk-label input.sk-toggleable__control:checked~label.sk-toggleable__label {background-color: #d4ebff;}#sk-container-id-2 input.sk-hidden--visually {border: 0;clip: rect(1px 1px 1px 1px);clip: rect(1px, 1px, 1px, 1px);height: 1px;margin: -1px;overflow: hidden;padding: 0;position: absolute;width: 1px;}#sk-container-id-2 div.sk-estimator {font-family: monospace;background-color: #f0f8ff;border: 1px dotted black;border-radius: 0.25em;box-sizing: border-box;margin-bottom: 0.5em;}#sk-container-id-2 div.sk-estimator:hover {background-color: #d4ebff;}#sk-container-id-2 div.sk-parallel-item::after {content: \"\";width: 100%;border-bottom: 1px solid gray;flex-grow: 1;}#sk-container-id-2 div.sk-label:hover label.sk-toggleable__label {background-color: #d4ebff;}#sk-container-id-2 div.sk-serial::before {content: \"\";position: absolute;border-left: 1px solid gray;box-sizing: border-box;top: 0;bottom: 0;left: 50%;z-index: 0;}#sk-container-id-2 div.sk-serial {display: flex;flex-direction: column;align-items: center;background-color: white;padding-right: 0.2em;padding-left: 0.2em;position: relative;}#sk-container-id-2 div.sk-item {position: relative;z-index: 1;}#sk-container-id-2 div.sk-parallel {display: flex;align-items: stretch;justify-content: center;background-color: white;position: relative;}#sk-container-id-2 div.sk-item::before, #sk-container-id-2 div.sk-parallel-item::before {content: \"\";position: absolute;border-left: 1px solid gray;box-sizing: border-box;top: 0;bottom: 0;left: 50%;z-index: -1;}#sk-container-id-2 div.sk-parallel-item {display: flex;flex-direction: column;z-index: 1;position: relative;background-color: white;}#sk-container-id-2 div.sk-parallel-item:first-child::after {align-self: flex-end;width: 50%;}#sk-container-id-2 div.sk-parallel-item:last-child::after {align-self: flex-start;width: 50%;}#sk-container-id-2 div.sk-parallel-item:only-child::after {width: 0;}#sk-container-id-2 div.sk-dashed-wrapped {border: 1px dashed gray;margin: 0 0.4em 0.5em 0.4em;box-sizing: border-box;padding-bottom: 0.4em;background-color: white;}#sk-container-id-2 div.sk-label label {font-family: monospace;font-weight: bold;display: inline-block;line-height: 1.2em;}#sk-container-id-2 div.sk-label-container {text-align: center;}#sk-container-id-2 div.sk-container {/* jupyter's `normalize.less` sets `[hidden] { display: none; }` but bootstrap.min.css set `[hidden] { display: none !important; }` so we also need the `!important` here to be able to override the default hidden behavior on the sphinx rendered scikit-learn.org. See: https://github.com/scikit-learn/scikit-learn/issues/21755 */display: inline-block !important;position: relative;}#sk-container-id-2 div.sk-text-repr-fallback {display: none;}</style><div id=\"sk-container-id-2\" class=\"sk-top-container\"><div class=\"sk-text-repr-fallback\"><pre>XGBClassifier(base_score=None, booster=None, callbacks=None,\n",
       "              colsample_bylevel=None, colsample_bynode=None,\n",
       "              colsample_bytree=None, device=None, early_stopping_rounds=None,\n",
       "              enable_categorical=False, eval_metric=None, feature_types=None,\n",
       "              gamma=None, grow_policy=None, importance_type=None,\n",
       "              interaction_constraints=None, learning_rate=None, max_bin=None,\n",
       "              max_cat_threshold=None, max_cat_to_onehot=None,\n",
       "              max_delta_step=None, max_depth=None, max_leaves=None,\n",
       "              min_child_weight=None, missing=nan, monotone_constraints=None,\n",
       "              multi_strategy=None, n_estimators=None, n_jobs=None,\n",
       "              num_parallel_tree=None, objective=&#x27;multi:softprob&#x27;, ...)</pre><b>In a Jupyter environment, please rerun this cell to show the HTML representation or trust the notebook. <br />On GitHub, the HTML representation is unable to render, please try loading this page with nbviewer.org.</b></div><div class=\"sk-container\" hidden><div class=\"sk-item\"><div class=\"sk-estimator sk-toggleable\"><input class=\"sk-toggleable__control sk-hidden--visually\" id=\"sk-estimator-id-2\" type=\"checkbox\" checked><label for=\"sk-estimator-id-2\" class=\"sk-toggleable__label sk-toggleable__label-arrow\">XGBClassifier</label><div class=\"sk-toggleable__content\"><pre>XGBClassifier(base_score=None, booster=None, callbacks=None,\n",
       "              colsample_bylevel=None, colsample_bynode=None,\n",
       "              colsample_bytree=None, device=None, early_stopping_rounds=None,\n",
       "              enable_categorical=False, eval_metric=None, feature_types=None,\n",
       "              gamma=None, grow_policy=None, importance_type=None,\n",
       "              interaction_constraints=None, learning_rate=None, max_bin=None,\n",
       "              max_cat_threshold=None, max_cat_to_onehot=None,\n",
       "              max_delta_step=None, max_depth=None, max_leaves=None,\n",
       "              min_child_weight=None, missing=nan, monotone_constraints=None,\n",
       "              multi_strategy=None, n_estimators=None, n_jobs=None,\n",
       "              num_parallel_tree=None, objective=&#x27;multi:softprob&#x27;, ...)</pre></div></div></div></div></div>"
      ],
      "text/plain": [
       "XGBClassifier(base_score=None, booster=None, callbacks=None,\n",
       "              colsample_bylevel=None, colsample_bynode=None,\n",
       "              colsample_bytree=None, device=None, early_stopping_rounds=None,\n",
       "              enable_categorical=False, eval_metric=None, feature_types=None,\n",
       "              gamma=None, grow_policy=None, importance_type=None,\n",
       "              interaction_constraints=None, learning_rate=None, max_bin=None,\n",
       "              max_cat_threshold=None, max_cat_to_onehot=None,\n",
       "              max_delta_step=None, max_depth=None, max_leaves=None,\n",
       "              min_child_weight=None, missing=nan, monotone_constraints=None,\n",
       "              multi_strategy=None, n_estimators=None, n_jobs=None,\n",
       "              num_parallel_tree=None, objective='multi:softprob', ...)"
      ]
     },
     "execution_count": 224,
     "metadata": {},
     "output_type": "execute_result"
    }
   ],
   "source": [
    "from xgboost import XGBClassifier\n",
    "\n",
    "# Criando o modelo\n",
    "modelo = XGBClassifier()\n",
    "\n",
    "# Treinando o modelo\n",
    "modelo.fit(X_train, y_train)"
   ]
  },
  {
   "cell_type": "code",
   "execution_count": 226,
   "metadata": {},
   "outputs": [],
   "source": [
    "y_pred = modelo.predict(X_test)\n",
    "previsoes = [round(value) for value in y_pred]"
   ]
  },
  {
   "cell_type": "code",
   "execution_count": 230,
   "metadata": {},
   "outputs": [
    {
     "name": "stdout",
     "output_type": "stream",
     "text": [
      "\n",
      "---------------------------\n",
      "\n",
      "Accuracy of Predictions =  0.7442490458729327\n",
      "\n",
      "---------------------------\n",
      "\n",
      "              precision    recall  f1-score   support\n",
      "\n",
      "           0       0.69      0.57      0.62     22242\n",
      "           1       0.74      0.81      0.77     22541\n",
      "           2       0.79      0.86      0.82     22032\n",
      "\n",
      "    accuracy                           0.74     66815\n",
      "   macro avg       0.74      0.74      0.74     66815\n",
      "weighted avg       0.74      0.74      0.74     66815\n",
      "\n",
      "[[12619  5652  3971]\n",
      " [ 3341 18210   990]\n",
      " [ 2405   729 18898]]\n"
     ]
    }
   ],
   "source": [
    "#Using confusion matrix to find the accuracy\n",
    "from sklearn.metrics import confusion_matrix, classification_report\n",
    "cm = confusion_matrix(y_test,y_pred)\n",
    "\n",
    "accuracy = cm.diagonal().sum()/cm.sum()\n",
    "\n",
    "print(\"\\n---------------------------\\n\")\n",
    "print(\"Accuracy of Predictions = \",accuracy)\n",
    "\n",
    "print(\"\\n---------------------------\\n\")\n",
    "print(classification_report(y_test, y_pred))\n",
    "print(cm)"
   ]
  }
 ],
 "metadata": {
  "kernelspec": {
   "display_name": "Python 3",
   "language": "python",
   "name": "python3"
  },
  "language_info": {
   "codemirror_mode": {
    "name": "ipython",
    "version": 3
   },
   "file_extension": ".py",
   "mimetype": "text/x-python",
   "name": "python",
   "nbconvert_exporter": "python",
   "pygments_lexer": "ipython3",
   "version": "3.11.6"
  }
 },
 "nbformat": 4,
 "nbformat_minor": 2
}
